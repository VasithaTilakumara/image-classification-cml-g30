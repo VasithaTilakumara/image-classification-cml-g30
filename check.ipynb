{
 "cells": [],
 "metadata": {
  "kernelspec": {
   "display_name": "cml_a2_env",
   "language": "python",
   "name": "python3"
  },
  "language_info": {
   "name": "python",
   "version": "3.13.0"
  }
 },
 "nbformat": 4,
 "nbformat_minor": 5
}
