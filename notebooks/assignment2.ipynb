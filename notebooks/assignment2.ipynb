{
 "cells": [
  {
   "cell_type": "code",
   "execution_count": 1,
   "id": "initial_id",
   "metadata": {
    "ExecuteTime": {
     "end_time": "2025-04-28T10:38:15.888552Z",
     "start_time": "2025-04-28T10:38:12.953606Z"
    }
   },
   "outputs": [],
   "source": [
    "import numpy as np\n",
    "import pandas as pd\n",
    "import matplotlib.pyplot as plt\n",
    "import seaborn as sns\n",
    "import os\n",
    "from PIL import Image\n",
    "import torch\n",
    "import torchvision\n",
    "from torchvision import transforms\n",
    "from torch.utils.data import Dataset, DataLoader\n",
    "import torch.nn as nn\n",
    "import torch.optim as optim\n",
    "from sklearn.model_selection import train_test_split\n",
    "from sklearn.metrics import confusion_matrix, classification_report\n"
   ]
  },
  {
   "cell_type": "code",
   "execution_count": 2,
   "id": "53409b515d024987",
   "metadata": {
    "ExecuteTime": {
     "end_time": "2025-04-28T10:39:59.598704Z",
     "start_time": "2025-04-28T10:39:59.595193Z"
    }
   },
   "outputs": [
    {
     "name": "stdout",
     "output_type": "stream",
     "text": [
      "Using device: cuda\n"
     ]
    }
   ],
   "source": [
    "# Check device (GPU/CPU)\n",
    "device = torch.device(\"cuda\" if torch.cuda.is_available() else \"cpu\")\n",
    "print(f\"Using device: {device}\")\n"
   ]
  },
  {
   "cell_type": "markdown",
   "id": "003231b0-bf6b-4bfc-8414-a698212000a5",
   "metadata": {},
   "source": [
    "# 2. Data Loading and Exploration"
   ]
  },
  {
   "cell_type": "code",
   "execution_count": 4,
   "id": "7a2f9872-cad5-4978-8347-99b5cba34681",
   "metadata": {},
   "outputs": [
    {
     "data": {
      "text/plain": [
       "'E:\\\\RMIT\\\\Fourth-Semester\\\\Computational-MachineLearning\\\\Assignment-2\\\\ColonCancer-Classification-Project\\\\notebooks'"
      ]
     },
     "execution_count": 4,
     "metadata": {},
     "output_type": "execute_result"
    }
   ],
   "source": [
    "pwd"
   ]
  },
  {
   "cell_type": "code",
   "execution_count": 10,
   "id": "fd75999a-c054-42f9-b9bf-9455ff3bd6d6",
   "metadata": {},
   "outputs": [
    {
     "name": "stdout",
     "output_type": "stream",
     "text": [
      "Main Data Labels:\n"
     ]
    },
    {
     "data": {
      "text/html": [
       "<div>\n",
       "<style scoped>\n",
       "    .dataframe tbody tr th:only-of-type {\n",
       "        vertical-align: middle;\n",
       "    }\n",
       "\n",
       "    .dataframe tbody tr th {\n",
       "        vertical-align: top;\n",
       "    }\n",
       "\n",
       "    .dataframe thead th {\n",
       "        text-align: right;\n",
       "    }\n",
       "</style>\n",
       "<table border=\"1\" class=\"dataframe\">\n",
       "  <thead>\n",
       "    <tr style=\"text-align: right;\">\n",
       "      <th></th>\n",
       "      <th>InstanceID</th>\n",
       "      <th>patientID</th>\n",
       "      <th>ImageName</th>\n",
       "      <th>cellTypeName</th>\n",
       "      <th>cellType</th>\n",
       "      <th>isCancerous</th>\n",
       "    </tr>\n",
       "  </thead>\n",
       "  <tbody>\n",
       "    <tr>\n",
       "      <th>0</th>\n",
       "      <td>22405</td>\n",
       "      <td>1</td>\n",
       "      <td>22405.png</td>\n",
       "      <td>fibroblast</td>\n",
       "      <td>0</td>\n",
       "      <td>0</td>\n",
       "    </tr>\n",
       "    <tr>\n",
       "      <th>1</th>\n",
       "      <td>22406</td>\n",
       "      <td>1</td>\n",
       "      <td>22406.png</td>\n",
       "      <td>fibroblast</td>\n",
       "      <td>0</td>\n",
       "      <td>0</td>\n",
       "    </tr>\n",
       "    <tr>\n",
       "      <th>2</th>\n",
       "      <td>22407</td>\n",
       "      <td>1</td>\n",
       "      <td>22407.png</td>\n",
       "      <td>fibroblast</td>\n",
       "      <td>0</td>\n",
       "      <td>0</td>\n",
       "    </tr>\n",
       "    <tr>\n",
       "      <th>3</th>\n",
       "      <td>22408</td>\n",
       "      <td>1</td>\n",
       "      <td>22408.png</td>\n",
       "      <td>fibroblast</td>\n",
       "      <td>0</td>\n",
       "      <td>0</td>\n",
       "    </tr>\n",
       "    <tr>\n",
       "      <th>4</th>\n",
       "      <td>22409</td>\n",
       "      <td>1</td>\n",
       "      <td>22409.png</td>\n",
       "      <td>fibroblast</td>\n",
       "      <td>0</td>\n",
       "      <td>0</td>\n",
       "    </tr>\n",
       "  </tbody>\n",
       "</table>\n",
       "</div>"
      ],
      "text/plain": [
       "   InstanceID  patientID  ImageName cellTypeName  cellType  isCancerous\n",
       "0       22405          1  22405.png   fibroblast         0            0\n",
       "1       22406          1  22406.png   fibroblast         0            0\n",
       "2       22407          1  22407.png   fibroblast         0            0\n",
       "3       22408          1  22408.png   fibroblast         0            0\n",
       "4       22409          1  22409.png   fibroblast         0            0"
      ]
     },
     "metadata": {},
     "output_type": "display_data"
    },
    {
     "name": "stdout",
     "output_type": "stream",
     "text": [
      "\n",
      "Extra Data Labels:\n"
     ]
    },
    {
     "data": {
      "text/html": [
       "<div>\n",
       "<style scoped>\n",
       "    .dataframe tbody tr th:only-of-type {\n",
       "        vertical-align: middle;\n",
       "    }\n",
       "\n",
       "    .dataframe tbody tr th {\n",
       "        vertical-align: top;\n",
       "    }\n",
       "\n",
       "    .dataframe thead th {\n",
       "        text-align: right;\n",
       "    }\n",
       "</style>\n",
       "<table border=\"1\" class=\"dataframe\">\n",
       "  <thead>\n",
       "    <tr style=\"text-align: right;\">\n",
       "      <th></th>\n",
       "      <th>InstanceID</th>\n",
       "      <th>patientID</th>\n",
       "      <th>ImageName</th>\n",
       "      <th>isCancerous</th>\n",
       "    </tr>\n",
       "  </thead>\n",
       "  <tbody>\n",
       "    <tr>\n",
       "      <th>0</th>\n",
       "      <td>12681</td>\n",
       "      <td>61</td>\n",
       "      <td>12681.png</td>\n",
       "      <td>0</td>\n",
       "    </tr>\n",
       "    <tr>\n",
       "      <th>1</th>\n",
       "      <td>12682</td>\n",
       "      <td>61</td>\n",
       "      <td>12682.png</td>\n",
       "      <td>0</td>\n",
       "    </tr>\n",
       "    <tr>\n",
       "      <th>2</th>\n",
       "      <td>12683</td>\n",
       "      <td>61</td>\n",
       "      <td>12683.png</td>\n",
       "      <td>0</td>\n",
       "    </tr>\n",
       "    <tr>\n",
       "      <th>3</th>\n",
       "      <td>12684</td>\n",
       "      <td>61</td>\n",
       "      <td>12684.png</td>\n",
       "      <td>0</td>\n",
       "    </tr>\n",
       "    <tr>\n",
       "      <th>4</th>\n",
       "      <td>12685</td>\n",
       "      <td>61</td>\n",
       "      <td>12685.png</td>\n",
       "      <td>0</td>\n",
       "    </tr>\n",
       "  </tbody>\n",
       "</table>\n",
       "</div>"
      ],
      "text/plain": [
       "   InstanceID  patientID  ImageName  isCancerous\n",
       "0       12681         61  12681.png            0\n",
       "1       12682         61  12682.png            0\n",
       "2       12683         61  12683.png            0\n",
       "3       12684         61  12684.png            0\n",
       "4       12685         61  12685.png            0"
      ]
     },
     "metadata": {},
     "output_type": "display_data"
    }
   ],
   "source": [
    "\n",
    "# Paths to your CSV files\n",
    "main_labels_path = '../data/data_labels_mainData.csv'  # Adjust this based on where you store it\n",
    "extra_labels_path = '../data/data_labels_extraData.csv'\n",
    "\n",
    "# Load the CSVs\n",
    "main_df = pd.read_csv(main_labels_path)\n",
    "extra_df = pd.read_csv(extra_labels_path)\n",
    "\n",
    "# Display the first few rows\n",
    "print(\"Main Data Labels:\")\n",
    "display(main_df.head())\n",
    "\n",
    "print(\"\\nExtra Data Labels:\")\n",
    "display(extra_df.head())\n"
   ]
  },
  {
   "cell_type": "code",
   "execution_count": 11,
   "id": "74957412-075c-4ddd-a02c-eba37c1d22ad",
   "metadata": {},
   "outputs": [
    {
     "name": "stdout",
     "output_type": "stream",
     "text": [
      "<class 'pandas.core.frame.DataFrame'>\n",
      "RangeIndex: 9896 entries, 0 to 9895\n",
      "Data columns (total 6 columns):\n",
      " #   Column        Non-Null Count  Dtype \n",
      "---  ------        --------------  ----- \n",
      " 0   InstanceID    9896 non-null   int64 \n",
      " 1   patientID     9896 non-null   int64 \n",
      " 2   ImageName     9896 non-null   object\n",
      " 3   cellTypeName  9896 non-null   object\n",
      " 4   cellType      9896 non-null   int64 \n",
      " 5   isCancerous   9896 non-null   int64 \n",
      "dtypes: int64(4), object(2)\n",
      "memory usage: 464.0+ KB\n"
     ]
    }
   ],
   "source": [
    "main_df.info()"
   ]
  },
  {
   "cell_type": "code",
   "execution_count": 12,
   "id": "b62544c9-6c3e-4b3c-a645-5ff778d37872",
   "metadata": {},
   "outputs": [
    {
     "name": "stdout",
     "output_type": "stream",
     "text": [
      "isCancerous Distribution in Main Data:\n",
      "isCancerous\n",
      "0    5817\n",
      "1    4079\n",
      "Name: count, dtype: int64\n",
      "\n",
      "cellType Distribution in Main Data:\n",
      "cellType\n",
      "2    4079\n",
      "1    2543\n",
      "0    1888\n",
      "3    1386\n",
      "Name: count, dtype: int64\n",
      "\n",
      "isCancerous Distribution in Extra Data:\n",
      "isCancerous\n",
      "0    7394\n",
      "1    2990\n",
      "Name: count, dtype: int64\n"
     ]
    }
   ],
   "source": [
    "# Check class balance in Main Data\n",
    "print(\"isCancerous Distribution in Main Data:\")\n",
    "print(main_df['isCancerous'].value_counts())\n",
    "\n",
    "print(\"\\ncellType Distribution in Main Data:\")\n",
    "print(main_df['cellType'].value_counts())\n",
    "\n",
    "# Check class balance in Extra Data\n",
    "print(\"\\nisCancerous Distribution in Extra Data:\")\n",
    "print(extra_df['isCancerous'].value_counts())\n",
    "\n"
   ]
  },
  {
   "cell_type": "markdown",
   "id": "b16a92dc-c185-47ab-b5db-04cf7b33635d",
   "metadata": {},
   "source": [
    "# import matplotlib.pyplot as plt\n",
    "\n",
    "# # Plot isCancerous distribution\n",
    "# main_df['isCancerous'].value_counts().plot(kind='bar')\n",
    "# plt.title('isCancerous Label Distribution')\n",
    "# plt.xlabel('Class')\n",
    "# plt.ylabel('Number of Samples')\n",
    "# plt.show()\n",
    "\n",
    "# # Plot cellType distribution\n",
    "# main_df['cellType'].value_counts().plot(kind='bar')\n",
    "# plt.title('cellType Label Distribution')\n",
    "# plt.xlabel('Cell Type')\n",
    "# plt.ylabel('Number of Samples')\n",
    "# plt.show()\n"
   ]
  },
  {
   "cell_type": "code",
   "execution_count": 17,
   "id": "be4a72c0-8ce5-4a3a-998b-eb764c1c814d",
   "metadata": {},
   "outputs": [
    {
     "data": {
      "image/png": "[encoded data removed]",
      "text/plain": [
       "<Figure size 640x480 with 1 Axes>"
      ]
     },
     "metadata": {},
     "output_type": "display_data"
    },
    {
     "data": {
      "image/png": "[encoded data removed]",
      "text/plain": [
       "<Figure size 640x480 with 1 Axes>"
      ]
     },
     "metadata": {},
     "output_type": "display_data"
    },
    {
     "data": {
      "image/png": "[encoded data removed]",
      "text/plain": [
       "<Figure size 640x480 with 1 Axes>"
      ]
     },
     "metadata": {},
     "output_type": "display_data"
    },
    {
     "data": {
      "image/png": "[encoded data removed]",
      "text/plain": [
       "<Figure size 640x480 with 1 Axes>"
      ]
     },
     "metadata": {},
     "output_type": "display_data"
    },
    {
     "data": {
      "image/png": "[encoded data removed]",
      "text/plain": [
       "<Figure size 640x480 with 1 Axes>"
      ]
     },
     "metadata": {},
     "output_type": "display_data"
    }
   ],
   "source": [
    "# Sample Image Folder\n",
    "image_folder = '../data/patch_images/'  # Adjust path as needed\n",
    "\n",
    "# Display a few random samples\n",
    "sample_images = main_df.sample(5)  # Randomly pick 5 images\n",
    "\n",
    "for idx, row in sample_images.iterrows():\n",
    "    img_path = os.path.join(image_folder, row['ImageName'])\n",
    "    img = Image.open(img_path)\n",
    "    plt.imshow(img)\n",
    "    plt.title(f\"isCancerous: {row['isCancerous']}, CellType: {row.get('cellType', 'N/A')}\")\n",
    "    plt.axis('off')\n",
    "    plt.show()\n"
   ]
  },
  {
   "cell_type": "markdown",
   "id": "3e0aa733-d65a-4736-96fe-a87f95b3ae92",
   "metadata": {},
   "source": [
    "**Preprocessing Notes:**\n",
    "\n",
    "- **Image Size:** All images are 27x27 RGB, no resizing needed.\n",
    "- **Normalization:** Apply transforms.ToTensor() followed by transforms.Normalize((0.5,), (0.5,)) to scale pixel values to [-1,1] for better CNN performance.\n",
    "- **Label Encoding:** \n",
    "  - For Task 1 (Cancer detection): Use the `isCancerous` binary label (0/1).\n",
    "  - For Task 2 (Cell type classification): Encode string cell types into integer classes.\n",
    "- **Data Splitting:** Dataset will be split into 70% training, 15% validation, 15% testing, stratified by `isCancerous` labels to preserve class balance.\n",
    "- **Additional Observations:** Dataset shows slight class imbalance (e.g., more epithelial cells), but manageable without aggressive augmentation initially.\n"
   ]
  },
  {
   "cell_type": "markdown",
   "id": "22afc509-3dad-4b29-a6c2-2413ceff1149",
   "metadata": {},
   "source": [
    "# 3. Data Preprocessing\n"
   ]
  },
  {
   "cell_type": "markdown",
   "id": "ba23a989-cc35-4a73-b3ef-988f88378e12",
   "metadata": {},
   "source": [
    "## 3.1 Image Transformations (Preprocessing)"
   ]
  },
  {
   "cell_type": "code",
   "execution_count": 18,
   "id": "4f701641-6a04-414f-b113-a70566b1801e",
   "metadata": {},
   "outputs": [],
   "source": [
    "transform = transforms.Compose([\n",
    "    transforms.ToTensor(),                 # PIL Image -> Tensor, and scales [0,255] to [0,1]\n",
    "    transforms.Normalize((0.5,), (0.5,))    # Normalize [0,1] → [-1,1]\n",
    "])"
   ]
  },
  {
   "cell_type": "markdown",
   "id": "1dcc54f1-b731-4371-9ab5-bf2f9f51bbd0",
   "metadata": {},
   "source": [
    "## 3.2 Create a Custom PyTorch Dataset Class"
   ]
  },
  {
   "cell_type": "code",
   "execution_count": 19,
   "id": "2c9e88cf-1eef-4069-8516-29da36dc7eaa",
   "metadata": {},
   "outputs": [],
   "source": [
    "class ColonCancerDataset(Dataset):\n",
    "    def __init__(self, dataframe, img_dir, transform=None, task='cancer'):\n",
    "        self.dataframe = dataframe           # DataFrame with labels\n",
    "        self.img_dir = img_dir                # Folder where images are stored\n",
    "        self.transform = transform            # Any transforms (e.g., normalize)\n",
    "        self.task = task                      # 'cancer' (binary) or 'celltype' (multi-class)\n",
    "        \n",
    "    def __len__(self):\n",
    "        return len(self.dataframe)\n",
    "    \n",
    "    def __getitem__(self, idx):\n",
    "        # Load image\n",
    "        img_path = os.path.join(self.img_dir, self.dataframe.iloc[idx]['filename'])\n",
    "        image = Image.open(img_path).convert('RGB')\n",
    "        \n",
    "        if self.transform:\n",
    "            image = self.transform(image)\n",
    "        \n",
    "        # Get label\n",
    "        if self.task == 'cancer':\n",
    "            label = torch.tensor(self.dataframe.iloc[idx]['isCancerous'], dtype=torch.float32)\n",
    "        elif self.task == 'celltype':\n",
    "            label = torch.tensor(self.dataframe.iloc[idx]['cellTypeEncoded'], dtype=torch.long)\n",
    "        \n",
    "        return image, label\n"
   ]
  },
  {
   "cell_type": "markdown",
   "id": "28010fee-ca52-4404-990b-8e4b20195150",
   "metadata": {},
   "source": [
    "## Train/Validation/Test Split"
   ]
  },
  {
   "cell_type": "code",
   "execution_count": 21,
   "id": "5660bb51-56ac-432c-9569-ed2d64356024",
   "metadata": {},
   "outputs": [
    {
     "name": "stdout",
     "output_type": "stream",
     "text": [
      "Train set size: 6927\n",
      "Validation set size: 1484\n",
      "Test set size: 1485\n"
     ]
    }
   ],
   "source": [
    "# Split the main_df into train/validation/test\n",
    "train_df, temp_df = train_test_split(main_df, test_size=0.3, stratify=main_df['isCancerous'], random_state=42)\n",
    "val_df, test_df = train_test_split(temp_df, test_size=0.5, stratify=temp_df['isCancerous'], random_state=42)\n",
    "\n",
    "print(f\"Train set size: {len(train_df)}\")\n",
    "print(f\"Validation set size: {len(val_df)}\")\n",
    "print(f\"Test set size: {len(test_df)}\")"
   ]
  }
 ],
 "metadata": {
  "kernelspec": {
   "display_name": "Python 3 (ipykernel)",
   "language": "python",
   "name": "python3"
  },
  "language_info": {
   "codemirror_mode": {
    "name": "ipython",
    "version": 3
   },
   "file_extension": ".py",
   "mimetype": "text/x-python",
   "name": "python",
   "nbconvert_exporter": "python",
   "pygments_lexer": "ipython3",
   "version": "3.10.16"
  }
 },
 "nbformat": 4,
 "nbformat_minor": 5
}
