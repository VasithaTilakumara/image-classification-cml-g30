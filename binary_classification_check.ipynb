{
 "cells": [
  {
   "cell_type": "code",
   "execution_count": 4,
   "id": "fc0a140b",
   "metadata": {},
   "outputs": [],
   "source": [
    "import pandas as pd\n",
    "import numpy as np\n",
    "import matplotlib.pyplot as plt\n",
    "import seaborn as sns\n",
    "from tqdm import tqdm\n",
    "\n",
    "#torch\n",
    "import torch\n",
    "from torch import nn\n",
    "\n",
    "#torchvision\n",
    "import torchvision\n",
    "from torchvision import datasets\n",
    "from torchvision.transforms import transforms\n",
    "import torch.optim as optim\n",
    "from torchmetrics.classification import Accuracy\n",
    "from torchmetrics.classification import MulticlassPrecision, MulticlassRecall, MulticlassF1Score, MulticlassConfusionMatrix, BinaryAccuracy, MulticlassAccuracy\n",
    "import seaborn as sns\n",
    "from sklearn.metrics import precision_recall_fscore_support, classification_report\n",
    "\n",
    "import pandas as pd\n",
    "import numpy as np\n",
    "import matplotlib.pyplot as plt\n",
    "import seaborn as sns\n",
    "from tqdm import tqdm\n",
    "\n",
    "#torch\n",
    "import torch\n",
    "from torch import nn\n",
    "\n",
    "#torchvision\n",
    "import torchvision\n",
    "from torchvision import datasets\n",
    "from torchvision.transforms import transforms\n",
    "import torch.optim as optim\n",
    "from torchmetrics.classification import Accuracy\n",
    "from torchmetrics.classification import MulticlassPrecision, MulticlassRecall, MulticlassF1Score, MulticlassConfusionMatrix, BinaryAccuracy, MulticlassAccuracy\n",
    "import seaborn as sns\n",
    "from sklearn.metrics import precision_recall_fscore_support, classification_report\n",
    "\n",
    "import os\n",
    "from PIL import Image\n",
    "from torch.utils.data import Dataset, DataLoader\n",
    "from sklearn.model_selection import StratifiedGroupKFold\n",
    "\n",
    "import random\n",
    "from PIL import Image\n",
    "from pathlib import Path\n",
    "from torchinfo import summary\n",
    "import copy\n",
    "\n",
    "from sklearn.metrics import confusion_matrix\n",
    "from matplotlib.ticker import MultipleLocator\n",
    "from sklearn.utils.class_weight import compute_class_weight\n",
    "\n",
    "from torch.utils.data import WeightedRandomSampler\n",
    "from torch.optim.lr_scheduler import ReduceLROnPlateau\n",
    "\n",
    "from collections import Counter"
   ]
  },
  {
   "cell_type": "code",
   "execution_count": 2,
   "id": "45bedc44",
   "metadata": {},
   "outputs": [
    {
     "name": "stdout",
     "output_type": "stream",
     "text": [
      "mps\n"
     ]
    }
   ],
   "source": [
    "if torch.backends.mps.is_available():\n",
    "    device = torch.device(\"mps\")\n",
    "else:\n",
    "    device = torch.device(\"cpu\")\n",
    "\n",
    "print(device)"
   ]
  },
  {
   "cell_type": "markdown",
   "id": "a26093ee",
   "metadata": {},
   "source": [
    "### Data import"
   ]
  },
  {
   "cell_type": "code",
   "execution_count": 7,
   "id": "0d4274aa",
   "metadata": {},
   "outputs": [],
   "source": [
    "base_dir = os.getcwd()\n",
    "image_dir = os.path.join(base_dir,'data','patch_images')\n",
    "labels_main_dir = os.path.join(base_dir,\"data\",\"data_labels_mainData.csv\")\n",
    "extra_labels_path = os.path.join(base_dir,\"data\",\"data_labels_extraData.csv\")"
   ]
  },
  {
   "cell_type": "code",
   "execution_count": 8,
   "id": "265ec9a2",
   "metadata": {},
   "outputs": [
    {
     "name": "stdout",
     "output_type": "stream",
     "text": [
      "Main Data Labels:\n"
     ]
    },
    {
     "data": {
      "text/html": [
       "<div>\n",
       "<style scoped>\n",
       "    .dataframe tbody tr th:only-of-type {\n",
       "        vertical-align: middle;\n",
       "    }\n",
       "\n",
       "    .dataframe tbody tr th {\n",
       "        vertical-align: top;\n",
       "    }\n",
       "\n",
       "    .dataframe thead th {\n",
       "        text-align: right;\n",
       "    }\n",
       "</style>\n",
       "<table border=\"1\" class=\"dataframe\">\n",
       "  <thead>\n",
       "    <tr style=\"text-align: right;\">\n",
       "      <th></th>\n",
       "      <th>InstanceID</th>\n",
       "      <th>patientID</th>\n",
       "      <th>ImageName</th>\n",
       "      <th>cellTypeName</th>\n",
       "      <th>cellType</th>\n",
       "      <th>isCancerous</th>\n",
       "    </tr>\n",
       "  </thead>\n",
       "  <tbody>\n",
       "    <tr>\n",
       "      <th>0</th>\n",
       "      <td>22405</td>\n",
       "      <td>1</td>\n",
       "      <td>22405.png</td>\n",
       "      <td>fibroblast</td>\n",
       "      <td>0</td>\n",
       "      <td>0</td>\n",
       "    </tr>\n",
       "    <tr>\n",
       "      <th>1</th>\n",
       "      <td>22406</td>\n",
       "      <td>1</td>\n",
       "      <td>22406.png</td>\n",
       "      <td>fibroblast</td>\n",
       "      <td>0</td>\n",
       "      <td>0</td>\n",
       "    </tr>\n",
       "    <tr>\n",
       "      <th>2</th>\n",
       "      <td>22407</td>\n",
       "      <td>1</td>\n",
       "      <td>22407.png</td>\n",
       "      <td>fibroblast</td>\n",
       "      <td>0</td>\n",
       "      <td>0</td>\n",
       "    </tr>\n",
       "    <tr>\n",
       "      <th>3</th>\n",
       "      <td>22408</td>\n",
       "      <td>1</td>\n",
       "      <td>22408.png</td>\n",
       "      <td>fibroblast</td>\n",
       "      <td>0</td>\n",
       "      <td>0</td>\n",
       "    </tr>\n",
       "    <tr>\n",
       "      <th>4</th>\n",
       "      <td>22409</td>\n",
       "      <td>1</td>\n",
       "      <td>22409.png</td>\n",
       "      <td>fibroblast</td>\n",
       "      <td>0</td>\n",
       "      <td>0</td>\n",
       "    </tr>\n",
       "  </tbody>\n",
       "</table>\n",
       "</div>"
      ],
      "text/plain": [
       "   InstanceID  patientID  ImageName cellTypeName  cellType  isCancerous\n",
       "0       22405          1  22405.png   fibroblast         0            0\n",
       "1       22406          1  22406.png   fibroblast         0            0\n",
       "2       22407          1  22407.png   fibroblast         0            0\n",
       "3       22408          1  22408.png   fibroblast         0            0\n",
       "4       22409          1  22409.png   fibroblast         0            0"
      ]
     },
     "metadata": {},
     "output_type": "display_data"
    },
    {
     "name": "stdout",
     "output_type": "stream",
     "text": [
      "\n",
      "Extra Data Labels:\n"
     ]
    },
    {
     "data": {
      "text/html": [
       "<div>\n",
       "<style scoped>\n",
       "    .dataframe tbody tr th:only-of-type {\n",
       "        vertical-align: middle;\n",
       "    }\n",
       "\n",
       "    .dataframe tbody tr th {\n",
       "        vertical-align: top;\n",
       "    }\n",
       "\n",
       "    .dataframe thead th {\n",
       "        text-align: right;\n",
       "    }\n",
       "</style>\n",
       "<table border=\"1\" class=\"dataframe\">\n",
       "  <thead>\n",
       "    <tr style=\"text-align: right;\">\n",
       "      <th></th>\n",
       "      <th>InstanceID</th>\n",
       "      <th>patientID</th>\n",
       "      <th>ImageName</th>\n",
       "      <th>isCancerous</th>\n",
       "    </tr>\n",
       "  </thead>\n",
       "  <tbody>\n",
       "    <tr>\n",
       "      <th>0</th>\n",
       "      <td>12681</td>\n",
       "      <td>61</td>\n",
       "      <td>12681.png</td>\n",
       "      <td>0</td>\n",
       "    </tr>\n",
       "    <tr>\n",
       "      <th>1</th>\n",
       "      <td>12682</td>\n",
       "      <td>61</td>\n",
       "      <td>12682.png</td>\n",
       "      <td>0</td>\n",
       "    </tr>\n",
       "    <tr>\n",
       "      <th>2</th>\n",
       "      <td>12683</td>\n",
       "      <td>61</td>\n",
       "      <td>12683.png</td>\n",
       "      <td>0</td>\n",
       "    </tr>\n",
       "    <tr>\n",
       "      <th>3</th>\n",
       "      <td>12684</td>\n",
       "      <td>61</td>\n",
       "      <td>12684.png</td>\n",
       "      <td>0</td>\n",
       "    </tr>\n",
       "    <tr>\n",
       "      <th>4</th>\n",
       "      <td>12685</td>\n",
       "      <td>61</td>\n",
       "      <td>12685.png</td>\n",
       "      <td>0</td>\n",
       "    </tr>\n",
       "  </tbody>\n",
       "</table>\n",
       "</div>"
      ],
      "text/plain": [
       "   InstanceID  patientID  ImageName  isCancerous\n",
       "0       12681         61  12681.png            0\n",
       "1       12682         61  12682.png            0\n",
       "2       12683         61  12683.png            0\n",
       "3       12684         61  12684.png            0\n",
       "4       12685         61  12685.png            0"
      ]
     },
     "metadata": {},
     "output_type": "display_data"
    }
   ],
   "source": [
    "# Load the CSVs\n",
    "main_df = pd.read_csv(labels_main_dir )\n",
    "extra_df = pd.read_csv(extra_labels_path)\n",
    "\n",
    "# Display the first few rows\n",
    "print(\"Main Data Labels:\")\n",
    "display(main_df.head())\n",
    "\n",
    "print(\"\\nExtra Data Labels:\")\n",
    "display(extra_df.head())"
   ]
  },
  {
   "cell_type": "code",
   "execution_count": 10,
   "id": "48d7c062",
   "metadata": {},
   "outputs": [
    {
     "data": {
      "text/html": [
       "<div>\n",
       "<style scoped>\n",
       "    .dataframe tbody tr th:only-of-type {\n",
       "        vertical-align: middle;\n",
       "    }\n",
       "\n",
       "    .dataframe tbody tr th {\n",
       "        vertical-align: top;\n",
       "    }\n",
       "\n",
       "    .dataframe thead th {\n",
       "        text-align: right;\n",
       "    }\n",
       "</style>\n",
       "<table border=\"1\" class=\"dataframe\">\n",
       "  <thead>\n",
       "    <tr style=\"text-align: right;\">\n",
       "      <th></th>\n",
       "      <th>InstanceID</th>\n",
       "      <th>patientID</th>\n",
       "      <th>ImageName</th>\n",
       "      <th>isCancerous</th>\n",
       "    </tr>\n",
       "  </thead>\n",
       "  <tbody>\n",
       "    <tr>\n",
       "      <th>0</th>\n",
       "      <td>22405</td>\n",
       "      <td>1</td>\n",
       "      <td>22405.png</td>\n",
       "      <td>0</td>\n",
       "    </tr>\n",
       "    <tr>\n",
       "      <th>1</th>\n",
       "      <td>22406</td>\n",
       "      <td>1</td>\n",
       "      <td>22406.png</td>\n",
       "      <td>0</td>\n",
       "    </tr>\n",
       "    <tr>\n",
       "      <th>2</th>\n",
       "      <td>22407</td>\n",
       "      <td>1</td>\n",
       "      <td>22407.png</td>\n",
       "      <td>0</td>\n",
       "    </tr>\n",
       "    <tr>\n",
       "      <th>3</th>\n",
       "      <td>22408</td>\n",
       "      <td>1</td>\n",
       "      <td>22408.png</td>\n",
       "      <td>0</td>\n",
       "    </tr>\n",
       "    <tr>\n",
       "      <th>4</th>\n",
       "      <td>22409</td>\n",
       "      <td>1</td>\n",
       "      <td>22409.png</td>\n",
       "      <td>0</td>\n",
       "    </tr>\n",
       "  </tbody>\n",
       "</table>\n",
       "</div>"
      ],
      "text/plain": [
       "   InstanceID  patientID  ImageName  isCancerous\n",
       "0       22405          1  22405.png            0\n",
       "1       22406          1  22406.png            0\n",
       "2       22407          1  22407.png            0\n",
       "3       22408          1  22408.png            0\n",
       "4       22409          1  22409.png            0"
      ]
     },
     "metadata": {},
     "output_type": "display_data"
    },
    {
     "name": "stdout",
     "output_type": "stream",
     "text": [
      "Main df shape: (9896, 6)\n",
      "Extra df shape: (10384, 5)\n",
      "Combined shape: (20280, 4)\n"
     ]
    }
   ],
   "source": [
    "# Add dummy column to extra_df so both have same structure\n",
    "extra_df['cellType'] = None  # Task 1 doesn't need this anyway\n",
    "\n",
    "# Combine the two\n",
    "combined_df = pd.concat([main_df, extra_df], ignore_index=True)\n",
    "\n",
    "# Optional: Reset index\n",
    "combined_df.reset_index(drop=True, inplace=True)\n",
    "combined_df = combined_df.drop(columns=['cellTypeName','cellType'])\n",
    "display(combined_df.head())\n",
    "\n",
    "print(\"Main df shape:\",main_df.shape)\n",
    "print(\"Extra df shape:\",extra_df.shape)\n",
    "print(\"Combined shape:\", combined_df.shape)"
   ]
  },
  {
   "cell_type": "code",
   "execution_count": 11,
   "id": "91250505",
   "metadata": {},
   "outputs": [],
   "source": [
    "transform = transforms.Compose([\n",
    "    transforms.Resize((128, 128)),\n",
    "    transforms.ToTensor(),\n",
    "    transforms.Normalize([0.5]*3, [0.5]*3)  # Normalize to [-1, 1]\n",
    "])"
   ]
  },
  {
   "cell_type": "code",
   "execution_count": 12,
   "id": "566c48a6",
   "metadata": {},
   "outputs": [],
   "source": [
    "class CancerImageDataset(Dataset):\n",
    "    def __init__(self, dataframe, image_dir, transform=None):\n",
    "        self.data = dataframe.reset_index(drop=True)\n",
    "        self.image_dir = image_dir\n",
    "        self.transform = transform\n",
    "\n",
    "    def __len__(self):\n",
    "        return len(self.data)\n",
    "\n",
    "    def __getitem__(self, idx):\n",
    "        img_name = self.data.iloc[idx]['ImageName']\n",
    "        label = self.data.iloc[idx]['isCancerous']\n",
    "        img_path = os.path.join(self.image_dir, img_name)\n",
    "        image = Image.open(img_path).convert('RGB')\n",
    "\n",
    "        if self.transform:\n",
    "            image = self.transform(image)\n",
    "\n",
    "        return image, torch.tensor(label, dtype=torch.float32)\n"
   ]
  },
  {
   "cell_type": "code",
   "execution_count": 13,
   "id": "35cd0bd9",
   "metadata": {},
   "outputs": [
    {
     "name": "stdout",
     "output_type": "stream",
     "text": [
      "Train set size: 14196\n",
      "Validation set size: 3042\n",
      "Test set size: 3042\n"
     ]
    }
   ],
   "source": [
    "from sklearn.model_selection import train_test_split\n",
    "\n",
    "combined_df['patientID'] = combined_df['ImageName'].apply(lambda x: x.split('_')[0])  # or other rule\n",
    "\n",
    "unique_patients = combined_df['patientID'].unique()\n",
    "train_patients, temp_patients = train_test_split(unique_patients, test_size=0.3, random_state=42)\n",
    "val_patients, test_patients = train_test_split(temp_patients, test_size=0.5, random_state=42)\n",
    "\n",
    "train_df = combined_df[combined_df['patientID'].isin(train_patients)]\n",
    "val_df = combined_df[combined_df['patientID'].isin(val_patients)]\n",
    "test_df = combined_df[combined_df['patientID'].isin(test_patients)]\n",
    "\n",
    "print(f\"Train set size: {len(train_df)}\")\n",
    "print(f\"Validation set size: {len(val_df)}\")\n",
    "print(f\"Test set size: {len(test_df)}\")"
   ]
  },
  {
   "cell_type": "code",
   "execution_count": 14,
   "id": "ca25514c",
   "metadata": {},
   "outputs": [],
   "source": [
    "train_dataset = CancerImageDataset(train_df, image_dir, transform)\n",
    "val_dataset = CancerImageDataset(val_df, image_dir, transform)\n",
    "test_dataset = CancerImageDataset(test_df, image_dir, transform)\n",
    "\n",
    "train_loader = DataLoader(train_dataset, batch_size=32, shuffle=True)\n",
    "val_loader = DataLoader(val_dataset, batch_size=32, shuffle=False)\n",
    "test_loader = DataLoader(test_dataset, batch_size=32, shuffle=False)"
   ]
  },
  {
   "cell_type": "markdown",
   "id": "07208363",
   "metadata": {},
   "source": [
    "### Model"
   ]
  },
  {
   "cell_type": "code",
   "execution_count": 15,
   "id": "533bf60a",
   "metadata": {},
   "outputs": [],
   "source": [
    "class CNNBaseline(nn.Module):\n",
    "    def __init__(self):\n",
    "        super(CNNBaseline, self).__init__()\n",
    "        self.conv_layers = nn.Sequential(\n",
    "            nn.Conv2d(3, 32, 3, padding=1),\n",
    "            nn.ReLU(),\n",
    "            nn.MaxPool2d(2),\n",
    "            nn.Conv2d(32, 64, 3, padding=1),\n",
    "            nn.ReLU(),\n",
    "            nn.MaxPool2d(2),\n",
    "            nn.Conv2d(64, 128, 3, padding=1),\n",
    "            nn.ReLU(),\n",
    "            nn.MaxPool2d(2)\n",
    "        )\n",
    "        self.fc_layers = nn.Sequential(\n",
    "            nn.Flatten(),\n",
    "            nn.Linear(128 * 16 * 16, 256),\n",
    "            nn.ReLU(),\n",
    "            nn.Dropout(0.5),\n",
    "            nn.Linear(256, 1),\n",
    "            nn.Sigmoid()\n",
    "        )\n",
    "\n",
    "    def forward(self, x):\n",
    "        x = self.conv_layers(x)\n",
    "        return self.fc_layers(x)"
   ]
  },
  {
   "cell_type": "markdown",
   "id": "f890bd16",
   "metadata": {},
   "source": [
    "### Helper functions"
   ]
  },
  {
   "cell_type": "code",
   "execution_count": 16,
   "id": "c77bf276",
   "metadata": {},
   "outputs": [],
   "source": [
    "def binary_train_model_v0(model, train_data_loader, val_data_loader, loss_function, optimizer, epoch_count, early_stop_count, device):\n",
    "\n",
    "    \"\"\"\n",
    "    Trains and validates a binary classification model with early stopping.\n",
    "\n",
    "    Returns:\n",
    "        best model, train losses, train accuracies, val losses, val accuracies\n",
    "    \"\"\"\n",
    "\n",
    "    model = model.to(device)\n",
    "\n",
    "    train_losses, val_losses = [], []\n",
    "    train_accuracies, val_accuracies = [], []\n",
    "\n",
    "    train_accuracy_fn = BinaryAccuracy().to(device)\n",
    "    val_accuracy_fn = BinaryAccuracy().to(device)\n",
    "\n",
    "    best_val_loss = float('inf')\n",
    "    best_model_weights = copy.deepcopy(model.state_dict())\n",
    "    patience_counter = early_stop_count\n",
    "\n",
    "    for epoch in range(epoch_count):\n",
    "        print(\"-\" * 100)\n",
    "        print(f\"Epoch {epoch+1}/{epoch_count}\")\n",
    "\n",
    "        # ---- TRAINING ----\n",
    "        model.train()\n",
    "        train_accuracy_fn.reset()\n",
    "        running_train_loss = 0.0\n",
    "\n",
    "        for images, labels in tqdm(train_data_loader, desc=\"Training\", leave=False):\n",
    "            images, labels = images.to(device), labels.to(device).float().unsqueeze(1)\n",
    "\n",
    "            outputs = model(images)  # shape: [B, 1]\n",
    "            loss = loss_function(outputs, labels)\n",
    "\n",
    "            optimizer.zero_grad()\n",
    "            loss.backward()\n",
    "            optimizer.step()\n",
    "\n",
    "            running_train_loss += loss.item() * images.size(0)\n",
    "\n",
    "            probs = torch.sigmoid(outputs)\n",
    "            preds = (probs > 0.5).long()\n",
    "            train_accuracy_fn.update(preds, labels.int())\n",
    "\n",
    "        avg_train_loss = running_train_loss / len(train_data_loader.dataset)\n",
    "        avg_train_accuracy = train_accuracy_fn.compute().item()\n",
    "\n",
    "        train_losses.append(avg_train_loss)\n",
    "        train_accuracies.append(avg_train_accuracy)\n",
    "\n",
    "        # ---- VALIDATION ----\n",
    "        model.eval()\n",
    "        val_accuracy_fn.reset()\n",
    "        running_val_loss = 0.0\n",
    "\n",
    "        with torch.no_grad():\n",
    "            for images, labels in tqdm(val_data_loader, desc=\"Validation\", leave=False):\n",
    "                images, labels = images.to(device), labels.to(device).float().unsqueeze(1)\n",
    "\n",
    "                outputs = model(images)\n",
    "                loss = loss_function(outputs, labels)\n",
    "\n",
    "                running_val_loss += loss.item() * images.size(0)\n",
    "\n",
    "                probs = torch.sigmoid(outputs)\n",
    "                preds = (probs > 0.5).long()\n",
    "                val_accuracy_fn.update(preds, labels.int())\n",
    "\n",
    "        avg_val_loss = running_val_loss / len(val_data_loader.dataset)\n",
    "        avg_val_accuracy = val_accuracy_fn.compute().item()\n",
    "\n",
    "        val_losses.append(avg_val_loss)\n",
    "        val_accuracies.append(avg_val_accuracy)\n",
    "\n",
    "        print(f\"Train loss: {avg_train_loss:.4f} | Train acc: {avg_train_accuracy:.4f}\")\n",
    "        print(f\"Val loss  : {avg_val_loss:.4f} | Val acc  : {avg_val_accuracy:.4f}\")\n",
    "        print(f\"Epoch {epoch+1} | Val loss: {avg_val_loss:.4f} | Best so far: {best_val_loss:.4f} | Patience left: {patience_counter}\")\n",
    "\n",
    "        # Early stopping check\n",
    "        if avg_val_loss < best_val_loss:\n",
    "            best_val_loss = avg_val_loss\n",
    "            best_model_weights = copy.deepcopy(model.state_dict())\n",
    "            patience_counter = early_stop_count\n",
    "        else:\n",
    "            patience_counter -= 1\n",
    "            if patience_counter == 0:\n",
    "                print(\"Early stopping triggered.\")\n",
    "                break\n",
    "\n",
    "    # Load best model\n",
    "    model.load_state_dict(best_model_weights)\n",
    "\n",
    "    return model, train_losses, train_accuracies, val_losses, val_accuracies\n"
   ]
  },
  {
   "cell_type": "code",
   "execution_count": 36,
   "id": "1630e8f2",
   "metadata": {},
   "outputs": [],
   "source": [
    "def binary_evaluate_model_predictions(model, val_data_loader, device):\n",
    "    \"\"\"\n",
    "    Evaluates a binary classification model (using BCELoss with Sigmoid in model)\n",
    "    and returns predictions and targets.\n",
    "\n",
    "    Returns:\n",
    "        all_predictions (tensor of shape [N])\n",
    "        all_targets (tensor of shape [N])\n",
    "    \"\"\"\n",
    "\n",
    "    model.eval()\n",
    "    all_predictions = []\n",
    "    all_targets = []\n",
    "\n",
    "    with torch.no_grad():\n",
    "        for images, labels in tqdm(val_data_loader, desc=\"Evaluation\", leave=False):\n",
    "            images = images.to(device)\n",
    "            labels = labels.to(device).float().unsqueeze(1)  # shape: [B, 1]\n",
    "\n",
    "            outputs = model(images)  # already sigmoid probabilities in [0, 1]\n",
    "            predictions = (outputs > 0.5).long()  # threshold at 0.5\n",
    "\n",
    "            all_predictions.append(predictions.cpu())\n",
    "            all_targets.append(labels.cpu().long())\n",
    "\n",
    "    all_predictions = torch.cat(all_predictions).squeeze()  # shape: [N]\n",
    "    all_targets = torch.cat(all_targets).squeeze()          # shape: [N]\n",
    "\n",
    "    return all_predictions, all_targets"
   ]
  },
  {
   "cell_type": "code",
   "execution_count": 18,
   "id": "6125bcb1",
   "metadata": {},
   "outputs": [],
   "source": [
    "def evaluate_per_class_metrics_binary(predictions, targets):\n",
    "    \"\"\" \n",
    "    Generates the classification report for binary classification.\n",
    "    \"\"\"\n",
    "\n",
    "    class_names = [\"Negative\", \"Positive\"]  # Update these to your actual label meanings if needed\n",
    "    print(\"Classification Report:\\n\")\n",
    "    report = classification_report(y_true=targets, y_pred=predictions, target_names=class_names, digits=3)\n",
    "    print(report)\n"
   ]
  },
  {
   "cell_type": "code",
   "execution_count": 19,
   "id": "3ada1bf3",
   "metadata": {},
   "outputs": [],
   "source": [
    "def plot_confusion_metrics_binary(predictions, targets):\n",
    "    \"\"\" \n",
    "    Plots the confusion matrix for binary classification.\n",
    "    \"\"\"\n",
    "\n",
    "    cm = confusion_matrix(targets, predictions)\n",
    "\n",
    "    plt.figure(figsize=(5, 4))\n",
    "    sns.heatmap(cm, annot=True, fmt=\"d\", cmap=\"Blues\", \n",
    "                xticklabels=[\"Negative\", \"Positive\"], \n",
    "                yticklabels=[\"Negative\", \"Positive\"])\n",
    "    plt.xlabel(\"Predicted Label\")\n",
    "    plt.ylabel(\"True Label\")\n",
    "    plt.title(\"Confusion Matrix\")\n",
    "    plt.tight_layout()\n",
    "    plt.show()"
   ]
  },
  {
   "cell_type": "markdown",
   "id": "81e66ccf",
   "metadata": {},
   "source": [
    "### Training"
   ]
  },
  {
   "cell_type": "code",
   "execution_count": null,
   "id": "61f4de02",
   "metadata": {},
   "outputs": [
    {
     "name": "stdout",
     "output_type": "stream",
     "text": [
      "----------------------------------------------------------------------------------------------------\n",
      "Epoch 1/30\n"
     ]
    },
    {
     "name": "stderr",
     "output_type": "stream",
     "text": [
      "                                                           \r"
     ]
    },
    {
     "name": "stdout",
     "output_type": "stream",
     "text": [
      "Train loss: 0.3530 | Train acc: 0.3492\n",
      "Val loss  : 0.2878 | Val acc  : 0.3429\n",
      "Epoch 1 | Val loss: 0.2878 | Best so far: inf | Patience left: 10\n",
      "----------------------------------------------------------------------------------------------------\n",
      "Epoch 2/30\n"
     ]
    },
    {
     "name": "stderr",
     "output_type": "stream",
     "text": [
      "                                                           \r"
     ]
    },
    {
     "name": "stdout",
     "output_type": "stream",
     "text": [
      "Train loss: 0.2957 | Train acc: 0.3497\n",
      "Val loss  : 0.2842 | Val acc  : 0.3435\n",
      "Epoch 2 | Val loss: 0.2842 | Best so far: 0.2878 | Patience left: 10\n",
      "----------------------------------------------------------------------------------------------------\n",
      "Epoch 3/30\n"
     ]
    },
    {
     "name": "stderr",
     "output_type": "stream",
     "text": [
      "                                                           \r"
     ]
    },
    {
     "name": "stdout",
     "output_type": "stream",
     "text": [
      "Train loss: 0.2896 | Train acc: 0.3569\n",
      "Val loss  : 0.3010 | Val acc  : 0.3521\n",
      "Epoch 3 | Val loss: 0.3010 | Best so far: 0.2842 | Patience left: 10\n",
      "----------------------------------------------------------------------------------------------------\n",
      "Epoch 4/30\n"
     ]
    },
    {
     "name": "stderr",
     "output_type": "stream",
     "text": [
      "                                                           \r"
     ]
    },
    {
     "name": "stdout",
     "output_type": "stream",
     "text": [
      "Train loss: 0.2645 | Train acc: 0.3645\n",
      "Val loss  : 0.2716 | Val acc  : 0.3517\n",
      "Epoch 4 | Val loss: 0.2716 | Best so far: 0.2842 | Patience left: 9\n",
      "----------------------------------------------------------------------------------------------------\n",
      "Epoch 5/30\n"
     ]
    },
    {
     "name": "stderr",
     "output_type": "stream",
     "text": [
      "                                                           \r"
     ]
    },
    {
     "name": "stdout",
     "output_type": "stream",
     "text": [
      "Train loss: 0.2478 | Train acc: 0.3719\n",
      "Val loss  : 0.2802 | Val acc  : 0.3475\n",
      "Epoch 5 | Val loss: 0.2802 | Best so far: 0.2716 | Patience left: 10\n",
      "----------------------------------------------------------------------------------------------------\n",
      "Epoch 6/30\n"
     ]
    },
    {
     "name": "stderr",
     "output_type": "stream",
     "text": [
      "                                                           \r"
     ]
    },
    {
     "name": "stdout",
     "output_type": "stream",
     "text": [
      "Train loss: 0.2352 | Train acc: 0.3698\n",
      "Val loss  : 0.2692 | Val acc  : 0.3652\n",
      "Epoch 6 | Val loss: 0.2692 | Best so far: 0.2716 | Patience left: 9\n",
      "----------------------------------------------------------------------------------------------------\n",
      "Epoch 7/30\n"
     ]
    },
    {
     "name": "stderr",
     "output_type": "stream",
     "text": [
      "                                                           \r"
     ]
    },
    {
     "name": "stdout",
     "output_type": "stream",
     "text": [
      "Train loss: 0.2197 | Train acc: 0.3820\n",
      "Val loss  : 0.2838 | Val acc  : 0.3692\n",
      "Epoch 7 | Val loss: 0.2838 | Best so far: 0.2692 | Patience left: 10\n",
      "----------------------------------------------------------------------------------------------------\n",
      "Epoch 8/30\n"
     ]
    },
    {
     "name": "stderr",
     "output_type": "stream",
     "text": [
      "                                                           \r"
     ]
    },
    {
     "name": "stdout",
     "output_type": "stream",
     "text": [
      "Train loss: 0.2008 | Train acc: 0.3759\n",
      "Val loss  : 0.2947 | Val acc  : 0.3586\n",
      "Epoch 8 | Val loss: 0.2947 | Best so far: 0.2692 | Patience left: 9\n",
      "----------------------------------------------------------------------------------------------------\n",
      "Epoch 9/30\n"
     ]
    },
    {
     "name": "stderr",
     "output_type": "stream",
     "text": [
      "                                                           \r"
     ]
    },
    {
     "name": "stdout",
     "output_type": "stream",
     "text": [
      "Train loss: 0.1694 | Train acc: 0.3845\n",
      "Val loss  : 0.3228 | Val acc  : 0.3803\n",
      "Epoch 9 | Val loss: 0.3228 | Best so far: 0.2692 | Patience left: 8\n",
      "----------------------------------------------------------------------------------------------------\n",
      "Epoch 10/30\n"
     ]
    },
    {
     "name": "stderr",
     "output_type": "stream",
     "text": [
      "                                                           \r"
     ]
    },
    {
     "name": "stdout",
     "output_type": "stream",
     "text": [
      "Train loss: 0.1442 | Train acc: 0.4093\n",
      "Val loss  : 0.3802 | Val acc  : 0.3912\n",
      "Epoch 10 | Val loss: 0.3802 | Best so far: 0.2692 | Patience left: 7\n",
      "----------------------------------------------------------------------------------------------------\n",
      "Epoch 11/30\n"
     ]
    },
    {
     "name": "stderr",
     "output_type": "stream",
     "text": [
      "                                                           \r"
     ]
    },
    {
     "name": "stdout",
     "output_type": "stream",
     "text": [
      "Train loss: 0.1304 | Train acc: 0.4226\n",
      "Val loss  : 0.3774 | Val acc  : 0.4254\n",
      "Epoch 11 | Val loss: 0.3774 | Best so far: 0.2692 | Patience left: 6\n",
      "----------------------------------------------------------------------------------------------------\n",
      "Epoch 12/30\n"
     ]
    },
    {
     "name": "stderr",
     "output_type": "stream",
     "text": [
      "                                                           \r"
     ]
    },
    {
     "name": "stdout",
     "output_type": "stream",
     "text": [
      "Train loss: 0.1247 | Train acc: 0.4308\n",
      "Val loss  : 0.3824 | Val acc  : 0.4201\n",
      "Epoch 12 | Val loss: 0.3824 | Best so far: 0.2692 | Patience left: 5\n",
      "----------------------------------------------------------------------------------------------------\n",
      "Epoch 13/30\n"
     ]
    },
    {
     "name": "stderr",
     "output_type": "stream",
     "text": [
      "                                                           \r"
     ]
    },
    {
     "name": "stdout",
     "output_type": "stream",
     "text": [
      "Train loss: 0.0971 | Train acc: 0.4562\n",
      "Val loss  : 0.5198 | Val acc  : 0.4155\n",
      "Epoch 13 | Val loss: 0.5198 | Best so far: 0.2692 | Patience left: 4\n",
      "----------------------------------------------------------------------------------------------------\n",
      "Epoch 14/30\n"
     ]
    },
    {
     "name": "stderr",
     "output_type": "stream",
     "text": [
      "                                                           \r"
     ]
    },
    {
     "name": "stdout",
     "output_type": "stream",
     "text": [
      "Train loss: 0.0823 | Train acc: 0.4906\n",
      "Val loss  : 0.4992 | Val acc  : 0.4583\n",
      "Epoch 14 | Val loss: 0.4992 | Best so far: 0.2692 | Patience left: 3\n",
      "----------------------------------------------------------------------------------------------------\n",
      "Epoch 15/30\n"
     ]
    },
    {
     "name": "stderr",
     "output_type": "stream",
     "text": [
      "                                                           \r"
     ]
    },
    {
     "name": "stdout",
     "output_type": "stream",
     "text": [
      "Train loss: 0.0657 | Train acc: 0.5210\n",
      "Val loss  : 0.5435 | Val acc  : 0.4652\n",
      "Epoch 15 | Val loss: 0.5435 | Best so far: 0.2692 | Patience left: 2\n",
      "----------------------------------------------------------------------------------------------------\n",
      "Epoch 16/30\n"
     ]
    },
    {
     "name": "stderr",
     "output_type": "stream",
     "text": [
      "                                                           \r"
     ]
    },
    {
     "name": "stdout",
     "output_type": "stream",
     "text": [
      "Train loss: 0.0700 | Train acc: 0.5440\n",
      "Val loss  : 0.5539 | Val acc  : 0.4819\n",
      "Epoch 16 | Val loss: 0.5539 | Best so far: 0.2692 | Patience left: 1\n",
      "Early stopping triggered.\n"
     ]
    },
    {
     "name": "stderr",
     "output_type": "stream",
     "text": [
      "                                                           \r"
     ]
    }
   ],
   "source": [
    "#instantiating a model\n",
    "model_t = CNNBaseline()\n",
    "\n",
    "#defining loss function and  optimizer\n",
    "loss_fn = nn.BCELoss()\n",
    "optimizer = optim.Adam(model_t.parameters(), lr=0.001)\n",
    "\n",
    "#model training\n",
    "best_model, train_losses, train_accuracies, val_losses, val_accuracies = binary_train_model_v0(\n",
    "    model=model_t,\n",
    "    train_data_loader=train_loader,\n",
    "    val_data_loader=val_loader,\n",
    "    loss_function=loss_fn,\n",
    "    optimizer=optimizer,\n",
    "    epoch_count=10,\n",
    "    early_stop_count=10,\n",
    "    device=device\n",
    ")\n",
    "\n",
    "#making predictions for val data with best model\n",
    "val_predictions, val_targets = binary_evaluate_model_predictions(model=best_model, val_data_loader=val_loader, device=device)"
   ]
  },
  {
   "cell_type": "code",
   "execution_count": 21,
   "id": "49e1ece4",
   "metadata": {},
   "outputs": [
    {
     "name": "stdout",
     "output_type": "stream",
     "text": [
      "Classification Report:\n",
      "\n",
      "              precision    recall  f1-score   support\n",
      "\n",
      "    Negative      1.000     0.034     0.066      1999\n",
      "    Positive      0.351     1.000     0.519      1043\n",
      "\n",
      "    accuracy                          0.365      3042\n",
      "   macro avg      0.675     0.517     0.293      3042\n",
      "weighted avg      0.777     0.365     0.221      3042\n",
      "\n"
     ]
    },
    {
     "data": {
      "image/png": "[encoded data removed]",
      "text/plain": [
       "<Figure size 500x400 with 2 Axes>"
      ]
     },
     "metadata": {},
     "output_type": "display_data"
    }
   ],
   "source": [
    "evaluate_per_class_metrics_binary(val_predictions,val_targets)\n",
    "plot_confusion_metrics_binary(val_predictions, val_targets)"
   ]
  },
  {
   "cell_type": "markdown",
   "id": "1f15d56b",
   "metadata": {},
   "source": [
    "### Vasi's train loop"
   ]
  },
  {
   "cell_type": "code",
   "execution_count": 22,
   "id": "0586b516",
   "metadata": {},
   "outputs": [
    {
     "name": "stdout",
     "output_type": "stream",
     "text": [
      "Epoch [1/10], Loss: 0.3452\n",
      "Epoch [2/10], Loss: 0.2968\n",
      "Epoch [3/10], Loss: 0.2807\n",
      "Epoch [4/10], Loss: 0.2590\n",
      "Epoch [5/10], Loss: 0.2358\n",
      "Epoch [6/10], Loss: 0.2120\n",
      "Epoch [7/10], Loss: 0.1895\n",
      "Epoch [8/10], Loss: 0.1540\n",
      "Epoch [9/10], Loss: 0.1219\n",
      "Epoch [10/10], Loss: 0.1019\n"
     ]
    }
   ],
   "source": [
    "model = CNNBaseline().to(device)\n",
    "\n",
    "criterion = nn.BCELoss()\n",
    "optimizer = torch.optim.Adam(model.parameters(), lr=0.001)\n",
    "\n",
    "# Training Loop\n",
    "for epoch in range(10):\n",
    "    model.train()\n",
    "    running_loss = 0.0\n",
    "    for images, labels in train_loader:\n",
    "        images = images.to(device)\n",
    "        labels = labels.to(device).unsqueeze(1)\n",
    "\n",
    "        optimizer.zero_grad()\n",
    "        outputs = model(images)\n",
    "        loss = criterion(outputs, labels)\n",
    "        loss.backward()\n",
    "        optimizer.step()\n",
    "        running_loss += loss.item()\n",
    "\n",
    "    print(f\"Epoch [{epoch+1}/10], Loss: {running_loss/len(train_loader):.4f}\")"
   ]
  },
  {
   "cell_type": "code",
   "execution_count": 23,
   "id": "9b2a0951",
   "metadata": {},
   "outputs": [
    {
     "name": "stdout",
     "output_type": "stream",
     "text": [
      "Validation Performance:\n",
      "              precision    recall  f1-score   support\n",
      "\n",
      "         0.0       0.92      0.89      0.90      1999\n",
      "         1.0       0.80      0.85      0.82      1043\n",
      "\n",
      "    accuracy                           0.88      3042\n",
      "   macro avg       0.86      0.87      0.86      3042\n",
      "weighted avg       0.88      0.88      0.88      3042\n",
      "\n",
      "[[1780  219]\n",
      " [ 161  882]]\n"
     ]
    }
   ],
   "source": [
    "\n",
    "def evaluate(model, loader):\n",
    "    model.eval()\n",
    "    y_true, y_pred = [], []\n",
    "    with torch.no_grad():\n",
    "        for images, labels in loader:\n",
    "            images = images.to(device)\n",
    "            outputs = model(images).cpu().numpy()\n",
    "            preds = (outputs > 0.5).astype(int).flatten()\n",
    "            y_true.extend(labels.numpy())\n",
    "            y_pred.extend(preds)\n",
    "    print(classification_report(y_true, y_pred))\n",
    "    print(confusion_matrix(y_true, y_pred))\n",
    "\n",
    "print(\"Validation Performance:\")\n",
    "evaluate(model, val_loader)"
   ]
  },
  {
   "cell_type": "markdown",
   "id": "0da8a5b6",
   "metadata": {},
   "source": [
    "### Double checking"
   ]
  },
  {
   "cell_type": "code",
   "execution_count": 24,
   "id": "94026703",
   "metadata": {},
   "outputs": [],
   "source": [
    "def binary_train_check(model, train_data_loader, loss_function, optimizer, epoch_count, device):\n",
    "\n",
    "\n",
    "    model = model.to(device)\n",
    "\n",
    "    train_losses = []\n",
    "    train_accuracies = []\n",
    "\n",
    "    train_accuracy_fn = BinaryAccuracy().to(device)\n",
    "\n",
    "\n",
    "    for epoch in range(epoch_count):\n",
    "        print(\"-\" * 100)\n",
    "        print(f\"Epoch {epoch+1}/{epoch_count}\")\n",
    "\n",
    "        # ---- TRAINING ----\n",
    "        model.train()\n",
    "        train_accuracy_fn.reset()\n",
    "        running_train_loss = 0.0\n",
    "\n",
    "        for images, labels in tqdm(train_data_loader, desc=\"Training\", leave=False):\n",
    "            images, labels = images.to(device), labels.to(device).float().unsqueeze(1)\n",
    "\n",
    "            outputs = model(images)  # shape: [B, 1]\n",
    "            loss = loss_function(outputs, labels)\n",
    "\n",
    "            optimizer.zero_grad()\n",
    "            loss.backward()\n",
    "            optimizer.step()\n",
    "\n",
    "            running_train_loss += loss.item() * images.size(0)\n",
    "\n",
    "            probs = torch.sigmoid(outputs)\n",
    "            preds = (probs > 0.5).long()\n",
    "            train_accuracy_fn.update(preds, labels.int())\n",
    "\n",
    "        avg_train_loss = running_train_loss / len(train_data_loader.dataset)\n",
    "        avg_train_accuracy = train_accuracy_fn.compute().item()\n",
    "\n",
    "        train_losses.append(avg_train_loss)\n",
    "        train_accuracies.append(avg_train_accuracy)\n",
    "\n",
    "        print(f\"Train loss : {avg_train_loss:.4f} \\t| Train accuracy {avg_train_accuracy:.4f}\")"
   ]
  },
  {
   "cell_type": "code",
   "execution_count": 26,
   "id": "4fae5ed7",
   "metadata": {},
   "outputs": [
    {
     "name": "stdout",
     "output_type": "stream",
     "text": [
      "----------------------------------------------------------------------------------------------------\n",
      "Epoch 1/10\n"
     ]
    },
    {
     "name": "stderr",
     "output_type": "stream",
     "text": [
      "                                                           \r"
     ]
    },
    {
     "name": "stdout",
     "output_type": "stream",
     "text": [
      "Train loss : 0.3575 \t| Train accuracy 0.3516\n",
      "----------------------------------------------------------------------------------------------------\n",
      "Epoch 2/10\n"
     ]
    },
    {
     "name": "stderr",
     "output_type": "stream",
     "text": [
      "                                                           \r"
     ]
    },
    {
     "name": "stdout",
     "output_type": "stream",
     "text": [
      "Train loss : 0.3041 \t| Train accuracy 0.3590\n",
      "----------------------------------------------------------------------------------------------------\n",
      "Epoch 3/10\n"
     ]
    },
    {
     "name": "stderr",
     "output_type": "stream",
     "text": [
      "                                                           \r"
     ]
    },
    {
     "name": "stdout",
     "output_type": "stream",
     "text": [
      "Train loss : 0.2849 \t| Train accuracy 0.3609\n",
      "----------------------------------------------------------------------------------------------------\n",
      "Epoch 4/10\n"
     ]
    },
    {
     "name": "stderr",
     "output_type": "stream",
     "text": [
      "                                                           \r"
     ]
    },
    {
     "name": "stdout",
     "output_type": "stream",
     "text": [
      "Train loss : 0.2688 \t| Train accuracy 0.3648\n",
      "----------------------------------------------------------------------------------------------------\n",
      "Epoch 5/10\n"
     ]
    },
    {
     "name": "stderr",
     "output_type": "stream",
     "text": [
      "                                                           \r"
     ]
    },
    {
     "name": "stdout",
     "output_type": "stream",
     "text": [
      "Train loss : 0.2478 \t| Train accuracy 0.3719\n",
      "----------------------------------------------------------------------------------------------------\n",
      "Epoch 6/10\n"
     ]
    },
    {
     "name": "stderr",
     "output_type": "stream",
     "text": [
      "                                                           \r"
     ]
    },
    {
     "name": "stdout",
     "output_type": "stream",
     "text": [
      "Train loss : 0.2335 \t| Train accuracy 0.3770\n",
      "----------------------------------------------------------------------------------------------------\n",
      "Epoch 7/10\n"
     ]
    },
    {
     "name": "stderr",
     "output_type": "stream",
     "text": [
      "                                                           \r"
     ]
    },
    {
     "name": "stdout",
     "output_type": "stream",
     "text": [
      "Train loss : 0.2117 \t| Train accuracy 0.3785\n",
      "----------------------------------------------------------------------------------------------------\n",
      "Epoch 8/10\n"
     ]
    },
    {
     "name": "stderr",
     "output_type": "stream",
     "text": [
      "                                                           \r"
     ]
    },
    {
     "name": "stdout",
     "output_type": "stream",
     "text": [
      "Train loss : 0.1919 \t| Train accuracy 0.3878\n",
      "----------------------------------------------------------------------------------------------------\n",
      "Epoch 9/10\n"
     ]
    },
    {
     "name": "stderr",
     "output_type": "stream",
     "text": [
      "                                                           \r"
     ]
    },
    {
     "name": "stdout",
     "output_type": "stream",
     "text": [
      "Train loss : 0.1689 \t| Train accuracy 0.3859\n",
      "----------------------------------------------------------------------------------------------------\n",
      "Epoch 10/10\n"
     ]
    },
    {
     "name": "stderr",
     "output_type": "stream",
     "text": [
      "                                                           "
     ]
    },
    {
     "name": "stdout",
     "output_type": "stream",
     "text": [
      "Train loss : 0.1425 \t| Train accuracy 0.4055\n"
     ]
    },
    {
     "name": "stderr",
     "output_type": "stream",
     "text": [
      "\r"
     ]
    }
   ],
   "source": [
    "#instantiating a model\n",
    "model_t = CNNBaseline()\n",
    "\n",
    "#defining loss function and  optimizer\n",
    "loss_fn = nn.BCELoss()\n",
    "optimizer = optim.Adam(model_t.parameters(), lr=0.001)\n",
    "\n",
    "#model training\n",
    "binary_train_check(\n",
    "    model=model_t,\n",
    "    train_data_loader=train_loader,\n",
    "    loss_function=loss_fn,\n",
    "    optimizer=optimizer,\n",
    "    epoch_count=10,\n",
    "    device=device\n",
    ")"
   ]
  },
  {
   "cell_type": "code",
   "execution_count": 30,
   "id": "91e952e7",
   "metadata": {},
   "outputs": [
    {
     "name": "stdout",
     "output_type": "stream",
     "text": [
      "Validation Performance:\n",
      "              precision    recall  f1-score   support\n",
      "\n",
      "         0.0       0.91      0.92      0.92      1999\n",
      "         1.0       0.85      0.82      0.84      1043\n",
      "\n",
      "    accuracy                           0.89      3042\n",
      "   macro avg       0.88      0.87      0.88      3042\n",
      "weighted avg       0.89      0.89      0.89      3042\n",
      "\n",
      "[[1845  154]\n",
      " [ 184  859]]\n"
     ]
    }
   ],
   "source": [
    "def evaluate(model, loader):\n",
    "    model.eval()\n",
    "    y_true, y_pred = [], []\n",
    "    with torch.no_grad():\n",
    "        for images, labels in loader:\n",
    "            images = images.to(device)\n",
    "            outputs = model(images).cpu().numpy()\n",
    "            preds = (outputs > 0.5).astype(int).flatten()\n",
    "            y_true.extend(labels.numpy())\n",
    "            y_pred.extend(preds)\n",
    "    print(classification_report(y_true, y_pred))\n",
    "    print(confusion_matrix(y_true, y_pred))\n",
    "\n",
    "print(\"Validation Performance:\")\n",
    "evaluate(model_t, val_loader)"
   ]
  },
  {
   "cell_type": "code",
   "execution_count": 37,
   "id": "9ca486f2",
   "metadata": {},
   "outputs": [
    {
     "name": "stderr",
     "output_type": "stream",
     "text": [
      "                                                           \r"
     ]
    }
   ],
   "source": [
    "val_predictions, val_targets = binary_evaluate_model_predictions(model=model_t, val_data_loader=val_loader, device=device)"
   ]
  },
  {
   "cell_type": "code",
   "execution_count": 38,
   "id": "c7ede7dc",
   "metadata": {},
   "outputs": [
    {
     "name": "stdout",
     "output_type": "stream",
     "text": [
      "Classification Report:\n",
      "\n",
      "              precision    recall  f1-score   support\n",
      "\n",
      "    Negative      0.909     0.923     0.916      1999\n",
      "    Positive      0.848     0.824     0.836      1043\n",
      "\n",
      "    accuracy                          0.889      3042\n",
      "   macro avg      0.879     0.873     0.876      3042\n",
      "weighted avg      0.888     0.889     0.888      3042\n",
      "\n"
     ]
    }
   ],
   "source": [
    "evaluate_per_class_metrics_binary(val_predictions,val_targets)"
   ]
  },
  {
   "cell_type": "code",
   "execution_count": 39,
   "id": "d3d4e726",
   "metadata": {},
   "outputs": [
    {
     "data": {
      "image/png": "[encoded data removed]",
      "text/plain": [
       "<Figure size 500x400 with 2 Axes>"
      ]
     },
     "metadata": {},
     "output_type": "display_data"
    }
   ],
   "source": [
    "plot_confusion_metrics_binary(val_predictions,val_targets)"
   ]
  }
 ],
 "metadata": {
  "kernelspec": {
   "display_name": "cml_a2_env",
   "language": "python",
   "name": "python3"
  },
  "language_info": {
   "codemirror_mode": {
    "name": "ipython",
    "version": 3
   },
   "file_extension": ".py",
   "mimetype": "text/x-python",
   "name": "python",
   "nbconvert_exporter": "python",
   "pygments_lexer": "ipython3",
   "version": "3.13.0"
  }
 },
 "nbformat": 4,
 "nbformat_minor": 5
}
