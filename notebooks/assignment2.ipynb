{
 "cells": [
  {
   "cell_type": "code",
   "execution_count": 54,
   "id": "initial_id",
   "metadata": {
    "ExecuteTime": {
     "end_time": "2025-04-28T10:38:15.888552Z",
     "start_time": "2025-04-28T10:38:12.953606Z"
    }
   },
   "outputs": [],
   "source": [
    "import numpy as np\n",
    "import pandas as pd\n",
    "import matplotlib.pyplot as plt\n",
    "import seaborn as sns\n",
    "import os\n",
    "from PIL import Image\n",
    "import torch\n",
    "import torchvision\n",
    "from torchvision import transforms\n",
    "from torch.utils.data import Dataset, DataLoader\n",
    "import torch.nn as nn\n",
    "import torch.optim as optim\n",
    "from sklearn.model_selection import train_test_split\n",
    "from sklearn.metrics import confusion_matrix, classification_report\n"
   ]
  },
  {
   "cell_type": "code",
   "execution_count": 55,
   "id": "53409b515d024987",
   "metadata": {
    "ExecuteTime": {
     "end_time": "2025-04-28T10:39:59.598704Z",
     "start_time": "2025-04-28T10:39:59.595193Z"
    }
   },
   "outputs": [
    {
     "name": "stdout",
     "output_type": "stream",
     "text": [
      "Using device: cuda\n"
     ]
    }
   ],
   "source": [
    "# Check device (GPU/CPU)\n",
    "device = torch.device(\"cuda\" if torch.cuda.is_available() else \"cpu\")\n",
    "print(f\"Using device: {device}\")\n"
   ]
  },
  {
   "cell_type": "markdown",
   "id": "003231b0-bf6b-4bfc-8414-a698212000a5",
   "metadata": {},
   "source": [
    "# 2. Data Loading and Exploration"
   ]
  },
  {
   "cell_type": "code",
   "execution_count": 56,
   "id": "7a2f9872-cad5-4978-8347-99b5cba34681",
   "metadata": {},
   "outputs": [
    {
     "data": {
      "text/plain": [
       "'e:\\\\RMIT\\\\Fourth-Semester\\\\Computational-MachineLearning\\\\Assignment-2\\\\ColonCancer-Classification-Project\\\\notebooks'"
      ]
     },
     "execution_count": 56,
     "metadata": {},
     "output_type": "execute_result"
    }
   ],
   "source": [
    "pwd"
   ]
  },
  {
   "cell_type": "code",
   "execution_count": 57,
   "id": "fd75999a-c054-42f9-b9bf-9455ff3bd6d6",
   "metadata": {},
   "outputs": [
    {
     "name": "stdout",
     "output_type": "stream",
     "text": [
      "Main Data Labels:\n"
     ]
    },
    {
     "data": {
      "text/html": [
       "<div>\n",
       "<style scoped>\n",
       "    .dataframe tbody tr th:only-of-type {\n",
       "        vertical-align: middle;\n",
       "    }\n",
       "\n",
       "    .dataframe tbody tr th {\n",
       "        vertical-align: top;\n",
       "    }\n",
       "\n",
       "    .dataframe thead th {\n",
       "        text-align: right;\n",
       "    }\n",
       "</style>\n",
       "<table border=\"1\" class=\"dataframe\">\n",
       "  <thead>\n",
       "    <tr style=\"text-align: right;\">\n",
       "      <th></th>\n",
       "      <th>InstanceID</th>\n",
       "      <th>patientID</th>\n",
       "      <th>ImageName</th>\n",
       "      <th>cellTypeName</th>\n",
       "      <th>cellType</th>\n",
       "      <th>isCancerous</th>\n",
       "    </tr>\n",
       "  </thead>\n",
       "  <tbody>\n",
       "    <tr>\n",
       "      <th>0</th>\n",
       "      <td>22405</td>\n",
       "      <td>1</td>\n",
       "      <td>22405.png</td>\n",
       "      <td>fibroblast</td>\n",
       "      <td>0</td>\n",
       "      <td>0</td>\n",
       "    </tr>\n",
       "    <tr>\n",
       "      <th>1</th>\n",
       "      <td>22406</td>\n",
       "      <td>1</td>\n",
       "      <td>22406.png</td>\n",
       "      <td>fibroblast</td>\n",
       "      <td>0</td>\n",
       "      <td>0</td>\n",
       "    </tr>\n",
       "    <tr>\n",
       "      <th>2</th>\n",
       "      <td>22407</td>\n",
       "      <td>1</td>\n",
       "      <td>22407.png</td>\n",
       "      <td>fibroblast</td>\n",
       "      <td>0</td>\n",
       "      <td>0</td>\n",
       "    </tr>\n",
       "    <tr>\n",
       "      <th>3</th>\n",
       "      <td>22408</td>\n",
       "      <td>1</td>\n",
       "      <td>22408.png</td>\n",
       "      <td>fibroblast</td>\n",
       "      <td>0</td>\n",
       "      <td>0</td>\n",
       "    </tr>\n",
       "    <tr>\n",
       "      <th>4</th>\n",
       "      <td>22409</td>\n",
       "      <td>1</td>\n",
       "      <td>22409.png</td>\n",
       "      <td>fibroblast</td>\n",
       "      <td>0</td>\n",
       "      <td>0</td>\n",
       "    </tr>\n",
       "  </tbody>\n",
       "</table>\n",
       "</div>"
      ],
      "text/plain": [
       "   InstanceID  patientID  ImageName cellTypeName  cellType  isCancerous\n",
       "0       22405          1  22405.png   fibroblast         0            0\n",
       "1       22406          1  22406.png   fibroblast         0            0\n",
       "2       22407          1  22407.png   fibroblast         0            0\n",
       "3       22408          1  22408.png   fibroblast         0            0\n",
       "4       22409          1  22409.png   fibroblast         0            0"
      ]
     },
     "metadata": {},
     "output_type": "display_data"
    },
    {
     "name": "stdout",
     "output_type": "stream",
     "text": [
      "\n",
      "Extra Data Labels:\n"
     ]
    },
    {
     "data": {
      "text/html": [
       "<div>\n",
       "<style scoped>\n",
       "    .dataframe tbody tr th:only-of-type {\n",
       "        vertical-align: middle;\n",
       "    }\n",
       "\n",
       "    .dataframe tbody tr th {\n",
       "        vertical-align: top;\n",
       "    }\n",
       "\n",
       "    .dataframe thead th {\n",
       "        text-align: right;\n",
       "    }\n",
       "</style>\n",
       "<table border=\"1\" class=\"dataframe\">\n",
       "  <thead>\n",
       "    <tr style=\"text-align: right;\">\n",
       "      <th></th>\n",
       "      <th>InstanceID</th>\n",
       "      <th>patientID</th>\n",
       "      <th>ImageName</th>\n",
       "      <th>isCancerous</th>\n",
       "    </tr>\n",
       "  </thead>\n",
       "  <tbody>\n",
       "    <tr>\n",
       "      <th>0</th>\n",
       "      <td>12681</td>\n",
       "      <td>61</td>\n",
       "      <td>12681.png</td>\n",
       "      <td>0</td>\n",
       "    </tr>\n",
       "    <tr>\n",
       "      <th>1</th>\n",
       "      <td>12682</td>\n",
       "      <td>61</td>\n",
       "      <td>12682.png</td>\n",
       "      <td>0</td>\n",
       "    </tr>\n",
       "    <tr>\n",
       "      <th>2</th>\n",
       "      <td>12683</td>\n",
       "      <td>61</td>\n",
       "      <td>12683.png</td>\n",
       "      <td>0</td>\n",
       "    </tr>\n",
       "    <tr>\n",
       "      <th>3</th>\n",
       "      <td>12684</td>\n",
       "      <td>61</td>\n",
       "      <td>12684.png</td>\n",
       "      <td>0</td>\n",
       "    </tr>\n",
       "    <tr>\n",
       "      <th>4</th>\n",
       "      <td>12685</td>\n",
       "      <td>61</td>\n",
       "      <td>12685.png</td>\n",
       "      <td>0</td>\n",
       "    </tr>\n",
       "  </tbody>\n",
       "</table>\n",
       "</div>"
      ],
      "text/plain": [
       "   InstanceID  patientID  ImageName  isCancerous\n",
       "0       12681         61  12681.png            0\n",
       "1       12682         61  12682.png            0\n",
       "2       12683         61  12683.png            0\n",
       "3       12684         61  12684.png            0\n",
       "4       12685         61  12685.png            0"
      ]
     },
     "metadata": {},
     "output_type": "display_data"
    }
   ],
   "source": [
    "\n",
    "# Paths to your CSV files\n",
    "main_labels_path = '../data/data_labels_mainData.csv'  # Adjust this based on where you store it\n",
    "extra_labels_path = '../data/data_labels_extraData.csv'\n",
    "\n",
    "# Load the CSVs\n",
    "main_df = pd.read_csv(main_labels_path)\n",
    "extra_df = pd.read_csv(extra_labels_path)\n",
    "\n",
    "# Display the first few rows\n",
    "print(\"Main Data Labels:\")\n",
    "display(main_df.head())\n",
    "\n",
    "print(\"\\nExtra Data Labels:\")\n",
    "display(extra_df.head())\n",
    "\n",
    "\n"
   ]
  },
  {
   "cell_type": "code",
   "execution_count": 58,
   "id": "92fae02e",
   "metadata": {},
   "outputs": [
    {
     "name": "stdout",
     "output_type": "stream",
     "text": [
      "Number of common patient IDs: 0\n",
      "Common patient IDs: set()\n"
     ]
    }
   ],
   "source": [
    "# Find common patient IDs between main_df and extra_df\n",
    "common_patient_ids = set(main_df['patientID']).intersection(set(extra_df['patientID']))\n",
    "print(f\"Number of common patient IDs: {len(common_patient_ids)}\")\n",
    "print(\"Common patient IDs:\", common_patient_ids)\n"
   ]
  },
  {
   "cell_type": "code",
   "execution_count": 59,
   "id": "f9db0793",
   "metadata": {},
   "outputs": [
    {
     "data": {
      "text/html": [
       "<div>\n",
       "<style scoped>\n",
       "    .dataframe tbody tr th:only-of-type {\n",
       "        vertical-align: middle;\n",
       "    }\n",
       "\n",
       "    .dataframe tbody tr th {\n",
       "        vertical-align: top;\n",
       "    }\n",
       "\n",
       "    .dataframe thead th {\n",
       "        text-align: right;\n",
       "    }\n",
       "</style>\n",
       "<table border=\"1\" class=\"dataframe\">\n",
       "  <thead>\n",
       "    <tr style=\"text-align: right;\">\n",
       "      <th></th>\n",
       "      <th>InstanceID</th>\n",
       "      <th>patientID</th>\n",
       "      <th>ImageName</th>\n",
       "      <th>isCancerous</th>\n",
       "    </tr>\n",
       "  </thead>\n",
       "  <tbody>\n",
       "    <tr>\n",
       "      <th>0</th>\n",
       "      <td>22405</td>\n",
       "      <td>1</td>\n",
       "      <td>22405.png</td>\n",
       "      <td>0</td>\n",
       "    </tr>\n",
       "    <tr>\n",
       "      <th>1</th>\n",
       "      <td>22406</td>\n",
       "      <td>1</td>\n",
       "      <td>22406.png</td>\n",
       "      <td>0</td>\n",
       "    </tr>\n",
       "    <tr>\n",
       "      <th>2</th>\n",
       "      <td>22407</td>\n",
       "      <td>1</td>\n",
       "      <td>22407.png</td>\n",
       "      <td>0</td>\n",
       "    </tr>\n",
       "    <tr>\n",
       "      <th>3</th>\n",
       "      <td>22408</td>\n",
       "      <td>1</td>\n",
       "      <td>22408.png</td>\n",
       "      <td>0</td>\n",
       "    </tr>\n",
       "    <tr>\n",
       "      <th>4</th>\n",
       "      <td>22409</td>\n",
       "      <td>1</td>\n",
       "      <td>22409.png</td>\n",
       "      <td>0</td>\n",
       "    </tr>\n",
       "  </tbody>\n",
       "</table>\n",
       "</div>"
      ],
      "text/plain": [
       "   InstanceID  patientID  ImageName  isCancerous\n",
       "0       22405          1  22405.png            0\n",
       "1       22406          1  22406.png            0\n",
       "2       22407          1  22407.png            0\n",
       "3       22408          1  22408.png            0\n",
       "4       22409          1  22409.png            0"
      ]
     },
     "metadata": {},
     "output_type": "display_data"
    },
    {
     "name": "stdout",
     "output_type": "stream",
     "text": [
      "Main df shape: (9896, 6)\n",
      "Extra df shape: (10384, 5)\n",
      "Combined shape: (20280, 4)\n"
     ]
    }
   ],
   "source": [
    "# Add dummy column to extra_df so both have same structure\n",
    "extra_df['cellType'] = None  # Task 1 doesn't need this anyway\n",
    "\n",
    "# Combine the two\n",
    "combined_df = pd.concat([main_df, extra_df], ignore_index=True)\n",
    "\n",
    "# Optional: Reset index\n",
    "combined_df.reset_index(drop=True, inplace=True)\n",
    "combined_df = combined_df.drop(columns=['cellTypeName','cellType'])\n",
    "display(combined_df.head())\n",
    "\n",
    "print(\"Main df shape:\",main_df.shape)\n",
    "print(\"Extra df shape:\",extra_df.shape)\n",
    "print(\"Combined shape:\", combined_df.shape)"
   ]
  },
  {
   "cell_type": "code",
   "execution_count": 60,
   "id": "74957412-075c-4ddd-a02c-eba37c1d22ad",
   "metadata": {},
   "outputs": [
    {
     "name": "stdout",
     "output_type": "stream",
     "text": [
      "<class 'pandas.core.frame.DataFrame'>\n",
      "RangeIndex: 20280 entries, 0 to 20279\n",
      "Data columns (total 4 columns):\n",
      " #   Column       Non-Null Count  Dtype \n",
      "---  ------       --------------  ----- \n",
      " 0   InstanceID   20280 non-null  int64 \n",
      " 1   patientID    20280 non-null  int64 \n",
      " 2   ImageName    20280 non-null  object\n",
      " 3   isCancerous  20280 non-null  int64 \n",
      "dtypes: int64(3), object(1)\n",
      "memory usage: 633.9+ KB\n"
     ]
    }
   ],
   "source": [
    "combined_df.info()"
   ]
  },
  {
   "cell_type": "code",
   "execution_count": 61,
   "id": "b62544c9-6c3e-4b3c-a645-5ff778d37872",
   "metadata": {},
   "outputs": [
    {
     "name": "stdout",
     "output_type": "stream",
     "text": [
      "isCancerous Distribution in Combined Data:\n",
      "isCancerous\n",
      "0    13211\n",
      "1     7069\n",
      "Name: count, dtype: int64\n"
     ]
    }
   ],
   "source": [
    "# Check class balance in Main Data\n",
    "print(\"isCancerous Distribution in Combined Data:\")\n",
    "print(combined_df['isCancerous'].value_counts())\n",
    "\n",
    "# print(\"\\ncellType Distribution in Main Data:\")\n",
    "# print(combined_df['cellType'].value_counts())\n",
    "\n",
    "# Check class balance in Extra Data\n",
    "# print(\"\\nisCancerous Distribution in Extra Data:\")\n",
    "# print(combined_df['isCancerous'].value_counts())\n",
    "\n"
   ]
  },
  {
   "cell_type": "code",
   "execution_count": 62,
   "id": "39a77e3a-634a-43e8-b3ec-0545cfcb287a",
   "metadata": {},
   "outputs": [
    {
     "data": {
      "image/png": "[encoded data removed]",
      "text/plain": [
       "<Figure size 640x480 with 1 Axes>"
      ]
     },
     "metadata": {},
     "output_type": "display_data"
    }
   ],
   "source": [
    "import matplotlib.pyplot as plt\n",
    "\n",
    "# Plot isCancerous distribution\n",
    "combined_df['isCancerous'].value_counts().plot(kind='bar')\n",
    "plt.title('isCancerous Label Distribution')\n",
    "plt.xlabel('Class')\n",
    "plt.ylabel('Number of Samples')\n",
    "plt.show()\n",
    "\n",
    "# # Plot cellType distribution\n",
    "# combined_df['cellType'].value_counts().plot(kind='bar')\n",
    "# plt.title('cellType Label Distribution')\n",
    "# plt.xlabel('Cell Type')\n",
    "# plt.ylabel('Number of Samples')\n",
    "# plt.show()\n"
   ]
  },
  {
   "cell_type": "markdown",
   "id": "3dcfaf28",
   "metadata": {},
   "source": [
    "## Here are some exploratory data analysis (EDA) steps you can perform on `combined_df`:\n",
    "\n",
    "1. **Basic Statistics**:\n",
    "    - Check the distribution of numerical columns.\n",
    "    - Identify missing values.\n",
    "\n",
    "    ```python\n",
    "    print(combined_df.describe())\n",
    "    print(combined_df.isnull().sum())\n",
    "    ```\n",
    "\n",
    "2. **Class Distribution**:\n",
    "    - Analyze the distribution of the `isCancerous` column.\n",
    "\n",
    "    ```python\n",
    "    print(combined_df['isCancerous'].value_counts())\n",
    "    combined_df['isCancerous'].value_counts().plot(kind='bar', title='Class Distribution')\n",
    "    plt.show()\n",
    "    ```\n",
    "\n",
    "3. **Patient Analysis**:\n",
    "    - Check the number of unique patients and their sample counts.\n",
    "\n",
    "    ```python\n",
    "    print(combined_df['patientID'].nunique())\n",
    "    print(combined_df['patientID'].value_counts())\n",
    "    ```\n",
    "\n",
    "4. **Image Analysis**:\n",
    "    - Verify if all images are unique.\n",
    "\n",
    "    ```python\n",
    "    print(combined_df['ImageName'].nunique() == len(combined_df))\n",
    "    ```\n",
    "\n",
    "5. **Correlation Analysis**:\n",
    "    - Check for correlations between numerical columns.\n",
    "\n",
    "    ```python\n",
    "    print(combined_df.corr())\n",
    "    sns.heatmap(combined_df.corr(), annot=True, cmap='coolwarm')\n",
    "    plt.show()\n",
    "    ```\n",
    "\n",
    "6. **Data Distribution by Patient**:\n",
    "    - Analyze the distribution of `isCancerous` by `patientID`.\n",
    "\n",
    "    ```python\n",
    "    patient_cancer_dist = combined_df.groupby('patientID')['isCancerous'].mean()\n",
    "    patient_cancer_dist.plot(kind='hist', title='Cancerous Distribution by Patient')\n",
    "    plt.show()\n",
    "    ```\n",
    "\n",
    "7. **Outlier Detection**:\n",
    "    - Identify potential outliers in numerical columns.\n",
    "\n",
    "    ```python\n",
    "    sns.boxplot(data=combined_df[['InstanceID', 'patientID']])\n",
    "    plt.show()\n",
    "    ```\n",
    "\n",
    "8. **Sample Visualization**:\n",
    "    - Display random samples of images (if accessible).\n",
    "\n",
    "    ```python\n",
    "    sample_images = combined_df.sample(5)\n",
    "    for _, row in sample_images.iterrows():\n",
    "         img_path = os.path.join(image_dir, row['ImageName'])\n",
    "         img = Image.open(img_path)\n",
    "         plt.imshow(img)\n",
    "         plt.title(f\"isCancerous: {row['isCancerous']}\")\n",
    "         plt.axis('off')\n",
    "         plt.show()\n",
    "    ```\n",
    "\n",
    "These steps will help you understand the dataset better and identify any issues or patterns."
   ]
  },
  {
   "cell_type": "code",
   "execution_count": 63,
   "id": "1cb7a61c",
   "metadata": {},
   "outputs": [
    {
     "name": "stdout",
     "output_type": "stream",
     "text": [
      "Patient Cancerous Distribution:\n",
      "patientID\n",
      "1     0.000000\n",
      "2     0.000000\n",
      "3     0.000000\n",
      "4     0.000000\n",
      "5     0.207101\n",
      "6     0.141414\n",
      "7     0.241107\n",
      "8     0.849398\n",
      "9     0.425287\n",
      "10    0.513245\n",
      "Name: isCancerous, dtype: float64\n"
     ]
    },
    {
     "data": {
      "image/png": "[encoded data removed]",
      "text/plain": [
       "<Figure size 640x480 with 1 Axes>"
      ]
     },
     "metadata": {},
     "output_type": "display_data"
    }
   ],
   "source": [
    "patient_cancer_dist = combined_df.groupby('patientID')['isCancerous'].mean()\n",
    "print(\"Patient Cancerous Distribution:\")\n",
    "print(patient_cancer_dist.head(10))\n",
    "patient_cancer_dist.plot(kind='hist', title='Cancerous Distribution by Patient')\n",
    "plt.xlabel('Cancerous Mean Distribution')\n",
    "plt.ylabel('Number of Patients')\n",
    "plt.show()"
   ]
  },
  {
   "cell_type": "code",
   "execution_count": 64,
   "id": "be4a72c0-8ce5-4a3a-998b-eb764c1c814d",
   "metadata": {},
   "outputs": [
    {
     "data": {
      "image/png": "[encoded data removed]",
      "text/plain": [
       "<Figure size 640x480 with 1 Axes>"
      ]
     },
     "metadata": {},
     "output_type": "display_data"
    },
    {
     "data": {
      "image/png": "[encoded data removed]",
      "text/plain": [
       "<Figure size 640x480 with 1 Axes>"
      ]
     },
     "metadata": {},
     "output_type": "display_data"
    },
    {
     "data": {
      "image/png": "[encoded data removed]",
      "text/plain": [
       "<Figure size 640x480 with 1 Axes>"
      ]
     },
     "metadata": {},
     "output_type": "display_data"
    },
    {
     "data": {
      "image/png": "[encoded data removed]",
      "text/plain": [
       "<Figure size 640x480 with 1 Axes>"
      ]
     },
     "metadata": {},
     "output_type": "display_data"
    },
    {
     "data": {
      "image/png": "[encoded data removed]",
      "text/plain": [
       "<Figure size 640x480 with 1 Axes>"
      ]
     },
     "metadata": {},
     "output_type": "display_data"
    }
   ],
   "source": [
    "# Sample Image Folder\n",
    "image_dir = '../data/patch_images/'  # Adjust path as needed\n",
    "\n",
    "# Display a few random samples\n",
    "sample_images = main_df.sample(5)  # Randomly pick 5 images\n",
    "\n",
    "for idx, row in sample_images.iterrows():\n",
    "    img_path = os.path.join(image_dir, row['ImageName'])\n",
    "    img = Image.open(img_path)\n",
    "    plt.imshow(img)\n",
    "    plt.title(f\"isCancerous: {row['isCancerous']}, CellType: {row.get('cellType', 'N/A')}\")\n",
    "    plt.axis('off')\n",
    "    plt.show()\n"
   ]
  },
  {
   "cell_type": "markdown",
   "id": "3e0aa733-d65a-4736-96fe-a87f95b3ae92",
   "metadata": {},
   "source": [
    "**Preprocessing Notes:**\n",
    "\n",
    "- **Image Size:** All images are 27x27 RGB, no resizing needed.\n",
    "- **Normalization:** Apply transforms.ToTensor() followed by transforms.Normalize((0.5,), (0.5,)) to scale pixel values to [-1,1] for better CNN performance.\n",
    "- **Label Encoding:** \n",
    "  - For Task 1 (Cancer detection): Use the `isCancerous` binary label (0/1).\n",
    "  - For Task 2 (Cell type classification): Encode string cell types into integer classes.\n",
    "- **Data Splitting:** Dataset will be split into 70% training, 15% validation, 15% testing, stratified by `isCancerous` labels to preserve class balance.\n",
    "- **Additional Observations:** Dataset shows slight class imbalance (e.g., more epithelial cells), but manageable without aggressive augmentation initially.\n"
   ]
  },
  {
   "cell_type": "markdown",
   "id": "22afc509-3dad-4b29-a6c2-2413ceff1149",
   "metadata": {},
   "source": [
    "# 3. Data Preprocessing\n"
   ]
  },
  {
   "cell_type": "markdown",
   "id": "ba23a989-cc35-4a73-b3ef-988f88378e12",
   "metadata": {},
   "source": [
    "## 3.1 Image Transformations (Preprocessing)"
   ]
  },
  {
   "cell_type": "code",
   "execution_count": 65,
   "id": "4f701641-6a04-414f-b113-a70566b1801e",
   "metadata": {},
   "outputs": [],
   "source": [
    "# transform = transforms.Compose([\n",
    "#     transforms.ToTensor(),                 # PIL Image -> Tensor, and scales [0,255] to [0,1]\n",
    "#     transforms.Normalize((0.5,), (0.5,))    # Normalize [0,1] → [-1,1]\n",
    "# ])\n",
    "\n",
    "transform = transforms.Compose([\n",
    "    transforms.Resize((128, 128)),\n",
    "    transforms.ToTensor(),\n",
    "    transforms.Normalize([0.5]*3, [0.5]*3)  # Normalize to [-1, 1]\n",
    "])\n"
   ]
  },
  {
   "cell_type": "markdown",
   "id": "1dcc54f1-b731-4371-9ab5-bf2f9f51bbd0",
   "metadata": {},
   "source": [
    "## 3.2 Create a Custom PyTorch Dataset Class"
   ]
  },
  {
   "cell_type": "markdown",
   "id": "8420149d",
   "metadata": {},
   "source": [
    "### For TASK 01 & TASK 02"
   ]
  },
  {
   "cell_type": "code",
   "execution_count": 66,
   "id": "2c9e88cf-1eef-4069-8516-29da36dc7eaa",
   "metadata": {},
   "outputs": [],
   "source": [
    "class ColonCancerDataset(Dataset):\n",
    "    def __init__(self, dataframe, img_dir, transform=None, task='cancer'):\n",
    "        self.dataframe = dataframe           # DataFrame with labels\n",
    "        self.img_dir = img_dir                # Folder where images are stored\n",
    "        self.transform = transform            # Any transforms (e.g., normalize)\n",
    "        self.task = task                      # 'cancer' (binary) or 'celltype' (multi-class)\n",
    "        \n",
    "    def __len__(self):\n",
    "        return len(self.dataframe)\n",
    "    \n",
    "    def __getitem__(self, idx):\n",
    "        # Load image\n",
    "        img_path = os.path.join(self.img_dir, self.dataframe.iloc[idx]['filename'])\n",
    "        image = Image.open(img_path).convert('RGB')\n",
    "        \n",
    "        if self.transform:\n",
    "            image = self.transform(image)\n",
    "        \n",
    "        # Get label\n",
    "        if self.task == 'cancer':\n",
    "            label = torch.tensor(self.dataframe.iloc[idx]['isCancerous'], dtype=torch.float32)\n",
    "        elif self.task == 'celltype':\n",
    "            label = torch.tensor(self.dataframe.iloc[idx]['cellTypeEncoded'], dtype=torch.long)\n",
    "        \n",
    "        return image, label\n"
   ]
  },
  {
   "cell_type": "markdown",
   "id": "172d99ca",
   "metadata": {},
   "source": [
    "### For TASK 01"
   ]
  },
  {
   "cell_type": "code",
   "execution_count": 67,
   "id": "7e2efcd6",
   "metadata": {},
   "outputs": [],
   "source": [
    "class CancerImageDataset(Dataset):\n",
    "    def __init__(self, dataframe, image_dir, transform=None):\n",
    "        self.data = dataframe.reset_index(drop=True)\n",
    "        self.image_dir = image_dir\n",
    "        self.transform = transform\n",
    "\n",
    "    def __len__(self):\n",
    "        return len(self.data)\n",
    "\n",
    "    def __getitem__(self, idx):\n",
    "        img_name = self.data.iloc[idx]['ImageName']\n",
    "        label = self.data.iloc[idx]['isCancerous']\n",
    "        img_path = os.path.join(self.image_dir, img_name)\n",
    "        image = Image.open(img_path).convert('RGB')\n",
    "\n",
    "        if self.transform:\n",
    "            image = self.transform(image)\n",
    "\n",
    "        return image, torch.tensor(label, dtype=torch.float32)\n"
   ]
  },
  {
   "cell_type": "markdown",
   "id": "28010fee-ca52-4404-990b-8e4b20195150",
   "metadata": {},
   "source": [
    "## Train/Validation/Test Split"
   ]
  },
  {
   "cell_type": "code",
   "execution_count": 68,
   "id": "5660bb51-56ac-432c-9569-ed2d64356024",
   "metadata": {},
   "outputs": [
    {
     "name": "stdout",
     "output_type": "stream",
     "text": [
      "Train set size: 14196\n",
      "Validation set size: 3042\n",
      "Test set size: 3042\n"
     ]
    }
   ],
   "source": [
    "# Split the main_df into train/validation/test\n",
    "# train_df, temp_df = train_test_split(combined_df, test_size=0.3, stratify=combined_df['isCancerous'], random_state=42)\n",
    "# val_df, test_df = train_test_split(temp_df, test_size=0.5, stratify=temp_df['isCancerous'], random_state=42)\n",
    "\n",
    "# print(f\"Train set size: {len(train_df)}\")\n",
    "# print(f\"Validation set size: {len(val_df)}\")\n",
    "# print(f\"Test set size: {len(test_df)}\")\n",
    "\n",
    "combined_df['patientID'] = combined_df['ImageName'].apply(lambda x: x.split('_')[0])  # or other rule\n",
    "\n",
    "unique_patients = combined_df['patientID'].unique()\n",
    "train_patients, temp_patients = train_test_split(unique_patients, test_size=0.3, random_state=42)\n",
    "val_patients, test_patients = train_test_split(temp_patients, test_size=0.5, random_state=42)\n",
    "\n",
    "train_df = combined_df[combined_df['patientID'].isin(train_patients)]\n",
    "val_df = combined_df[combined_df['patientID'].isin(val_patients)]\n",
    "test_df = combined_df[combined_df['patientID'].isin(test_patients)]\n",
    "\n",
    "print(f\"Train set size: {len(train_df)}\")\n",
    "print(f\"Validation set size: {len(val_df)}\")\n",
    "print(f\"Test set size: {len(test_df)}\")\n",
    "# print(train_df)"
   ]
  },
  {
   "cell_type": "markdown",
   "id": "eb6f9173-1117-4868-baa7-0dc0916772b9",
   "metadata": {},
   "source": [
    "## Create Datasets and DataLoaders"
   ]
  },
  {
   "cell_type": "code",
   "execution_count": 69,
   "id": "e7cb323d-41f4-4fef-9fa3-26bee846bbb4",
   "metadata": {},
   "outputs": [],
   "source": [
    "# train_dataset = ColonCancerDataset(train_df, image_dir, transform=transform)\n",
    "# val_dataset = ColonCancerDataset(val_df, image_dir, transform=transform)\n",
    "# test_dataset = ColonCancerDataset(test_df, image_dir, transform=transform)\n",
    "\n",
    "# train_loader = DataLoader(train_dataset, batch_size=32, shuffle=True)\n",
    "# val_loader = DataLoader(val_dataset, batch_size=32)\n",
    "# test_loader = DataLoader(test_dataset, batch_size=32)\n",
    "\n",
    "# image_dir = 'images'\n",
    "\n",
    "train_dataset = CancerImageDataset(train_df, image_dir, transform)\n",
    "val_dataset = CancerImageDataset(val_df, image_dir, transform)\n",
    "test_dataset = CancerImageDataset(test_df, image_dir, transform)\n",
    "\n",
    "train_loader = DataLoader(train_dataset, batch_size=32, shuffle=True)\n",
    "val_loader = DataLoader(val_dataset, batch_size=32, shuffle=False)\n",
    "test_loader = DataLoader(test_dataset, batch_size=32, shuffle=False)\n",
    "\n"
   ]
  },
  {
   "cell_type": "markdown",
   "id": "ab91db7c-899d-4850-ab7d-4e35af05ced1",
   "metadata": {},
   "source": [
    "# 4. Baseline model"
   ]
  },
  {
   "cell_type": "code",
   "execution_count": 70,
   "id": "0fe465b4-4802-4132-812d-013ffaaa63d8",
   "metadata": {},
   "outputs": [],
   "source": [
    "# class CancerClassifierCNN(nn.Module):\n",
    "#     def __init__(self):\n",
    "#         super(CancerClassifierCNN, self).__init__()\n",
    "\n",
    "#         # Convolutional layers\n",
    "#         self.conv1 = nn.Conv2d(3, 16, kernel_size=3, padding=1)   # input: [3, 27, 27] → [16, 27, 27]\n",
    "#         self.pool = nn.MaxPool2d(2, 2)                            # → [16, 13, 13]\n",
    "#         self.conv2 = nn.Conv2d(16, 32, kernel_size=3, padding=1)  # → [32, 13, 13] → [32, 6, 6]\n",
    "\n",
    "#         # Fully connected layer\n",
    "#         self.fc1 = nn.Linear(32 * 6 * 6, 1)   # binary classification → 1 output neuron\n",
    "\n",
    "#     def forward(self, x):\n",
    "#         x = self.pool(F.relu(self.conv1(x)))   # conv1 + relu + pool\n",
    "#         x = self.pool(F.relu(self.conv2(x)))   # conv2 + relu + pool\n",
    "#         x = x.view(-1, 32 * 6 * 6)             # flatten\n",
    "#         x = self.fc1(x)                        # final dense layer (no sigmoid here!)\n",
    "#         return x\n",
    "\n",
    "\n",
    "class CNNBaseline(nn.Module):\n",
    "    def __init__(self):\n",
    "        super(CNNBaseline, self).__init__()\n",
    "        self.conv_layers = nn.Sequential(\n",
    "            nn.Conv2d(3, 32, 3, padding=1),\n",
    "            nn.ReLU(),\n",
    "            nn.MaxPool2d(2),\n",
    "            nn.Conv2d(32, 64, 3, padding=1),\n",
    "            nn.ReLU(),\n",
    "            nn.MaxPool2d(2),\n",
    "            nn.Conv2d(64, 128, 3, padding=1),\n",
    "            nn.ReLU(),\n",
    "            nn.MaxPool2d(2)\n",
    "        )\n",
    "        self.fc_layers = nn.Sequential(\n",
    "            nn.Flatten(),\n",
    "            nn.Linear(128 * 16 * 16, 256),\n",
    "            nn.ReLU(),\n",
    "            nn.Dropout(0.5),\n",
    "            nn.Linear(256, 1),\n",
    "            nn.Sigmoid()\n",
    "        )\n",
    "\n",
    "    def forward(self, x):\n",
    "        x = self.conv_layers(x)\n",
    "        return self.fc_layers(x)\n"
   ]
  },
  {
   "cell_type": "code",
   "execution_count": null,
   "id": "0079f635-d09d-4a9c-9158-28e6dbd9b39b",
   "metadata": {},
   "outputs": [
    {
     "data": {
      "text/plain": [
       "CancerClassifierCNN(\n",
       "  (conv1): Conv2d(3, 16, kernel_size=(3, 3), stride=(1, 1), padding=(1, 1))\n",
       "  (pool): MaxPool2d(kernel_size=2, stride=2, padding=0, dilation=1, ceil_mode=False)\n",
       "  (conv2): Conv2d(16, 32, kernel_size=(3, 3), stride=(1, 1), padding=(1, 1))\n",
       "  (fc1): Linear(in_features=1152, out_features=1, bias=True)\n",
       ")"
      ]
     },
     "execution_count": 67,
     "metadata": {},
     "output_type": "execute_result"
    }
   ],
   "source": [
    "# model = CancerClassifierCNN()\n",
    "\n",
    "# criterion = nn.BCEWithLogitsLoss()               # binary classification\n",
    "# optimizer = optim.Adam(model.parameters(), lr=0.001)\n",
    "\n",
    "# device = torch.device(\"cuda\" if torch.cuda.is_available() else \"cpu\")\n",
    "# model.to(device)\n"
   ]
  },
  {
   "cell_type": "markdown",
   "id": "485e645e",
   "metadata": {},
   "source": [
    "## 5. Train the Model"
   ]
  },
  {
   "cell_type": "code",
   "execution_count": 71,
   "id": "0b6354df",
   "metadata": {},
   "outputs": [
    {
     "name": "stdout",
     "output_type": "stream",
     "text": [
      "Epoch [1/10], Loss: 0.3545\n",
      "Epoch [2/10], Loss: 0.3074\n",
      "Epoch [3/10], Loss: 0.2829\n",
      "Epoch [4/10], Loss: 0.2642\n",
      "Epoch [5/10], Loss: 0.2451\n",
      "Epoch [6/10], Loss: 0.2297\n",
      "Epoch [7/10], Loss: 0.1982\n",
      "Epoch [8/10], Loss: 0.1773\n",
      "Epoch [9/10], Loss: 0.1419\n",
      "Epoch [10/10], Loss: 0.1174\n"
     ]
    }
   ],
   "source": [
    "device = torch.device('cuda' if torch.cuda.is_available() else 'cpu')\n",
    "model = CNNBaseline().to(device)\n",
    "\n",
    "criterion = nn.BCELoss()\n",
    "optimizer = torch.optim.Adam(model.parameters(), lr=0.001)\n",
    "\n",
    "# Training Loop\n",
    "for epoch in range(10):\n",
    "    model.train()\n",
    "    running_loss = 0.0\n",
    "    for images, labels in train_loader:\n",
    "        images = images.to(device)\n",
    "        labels = labels.to(device).unsqueeze(1)\n",
    "\n",
    "        optimizer.zero_grad()\n",
    "        outputs = model(images)\n",
    "        loss = criterion(outputs, labels)\n",
    "        loss.backward()\n",
    "        optimizer.step()\n",
    "        running_loss += loss.item()\n",
    "\n",
    "    print(f\"Epoch [{epoch+1}/10], Loss: {running_loss/len(train_loader):.4f}\")\n"
   ]
  },
  {
   "cell_type": "code",
   "execution_count": 72,
   "id": "18410b00",
   "metadata": {},
   "outputs": [
    {
     "name": "stdout",
     "output_type": "stream",
     "text": [
      "Validation Performance:\n",
      "              precision    recall  f1-score   support\n",
      "\n",
      "         0.0       0.92      0.89      0.91      1999\n",
      "         1.0       0.80      0.86      0.83      1043\n",
      "\n",
      "    accuracy                           0.88      3042\n",
      "   macro avg       0.86      0.87      0.87      3042\n",
      "weighted avg       0.88      0.88      0.88      3042\n",
      "\n",
      "[[1775  224]\n",
      " [ 145  898]]\n",
      "Test Performance:\n",
      "              precision    recall  f1-score   support\n",
      "\n",
      "         0.0       0.93      0.89      0.91      1973\n",
      "         1.0       0.81      0.87      0.84      1069\n",
      "\n",
      "    accuracy                           0.88      3042\n",
      "   macro avg       0.87      0.88      0.87      3042\n",
      "weighted avg       0.89      0.88      0.88      3042\n",
      "\n",
      "[[1750  223]\n",
      " [ 134  935]]\n"
     ]
    }
   ],
   "source": [
    "def evaluate(model, loader):\n",
    "    model.eval()\n",
    "    y_true, y_pred = [], []\n",
    "    with torch.no_grad():\n",
    "        for images, labels in loader:\n",
    "            images = images.to(device)\n",
    "            outputs = model(images).cpu().numpy()\n",
    "            preds = (outputs > 0.5).astype(int).flatten()\n",
    "            y_true.extend(labels.numpy())\n",
    "            y_pred.extend(preds)\n",
    "    print(classification_report(y_true, y_pred))\n",
    "    print(confusion_matrix(y_true, y_pred))\n",
    "\n",
    "print(\"Validation Performance:\")\n",
    "evaluate(model, val_loader)\n",
    "\n",
    "print(\"Test Performance:\")\n",
    "evaluate(model, test_loader)\n"
   ]
  }
 ],
 "metadata": {
  "kernelspec": {
   "display_name": "colon_cancer_project",
   "language": "python",
   "name": "python3"
  },
  "language_info": {
   "codemirror_mode": {
    "name": "ipython",
    "version": 3
   },
   "file_extension": ".py",
   "mimetype": "text/x-python",
   "name": "python",
   "nbconvert_exporter": "python",
   "pygments_lexer": "ipython3",
   "version": "3.10.16"
  }
 },
 "nbformat": 4,
 "nbformat_minor": 5
}
